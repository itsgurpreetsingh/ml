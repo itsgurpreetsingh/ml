{
  "cells": [
    {
      "cell_type": "code",
      "execution_count": null,
      "metadata": {
        "id": "iUeAmWvv6ogJ"
      },
      "outputs": [],
      "source": [
        "import pandas as pd\n",
        "from sklearn.preprocessing import MinMaxScaler\n",
        "from sklearn.model_selection import train_test_split\n",
        "from sklearn import linear_model\n",
        "from sklearn.metrics import fbeta_score\n",
        "from sklearn.metrics import r2_score,mean_absolute_error\n",
        "df = pd.read_csv('/content/USA_Housing.csv')"
      ]
    },
    {
      "cell_type": "markdown",
      "metadata": {
        "id": "_iYxdmMpgWgm"
      },
      "source": [
        "Question 1"
      ]
    },
    {
      "cell_type": "code",
      "execution_count": null,
      "metadata": {
        "id": "XnXbhMiDgHWj"
      },
      "outputs": [],
      "source": [
        "x = df[['Avg. Area Income','Avg. Area House Age','Avg. Area Number of Rooms','Avg. Area Number of Bedrooms','Area Population']]\n",
        "y = df[['Price']]"
      ]
    },
    {
      "cell_type": "code",
      "execution_count": null,
      "metadata": {
        "id": "RaIzeKKwgdfe"
      },
      "outputs": [],
      "source": [
        "scaler = MinMaxScaler()\n",
        "x = pd.DataFrame(scaler.fit_transform(x), columns=x.columns)\n",
        "y = pd.DataFrame(scaler.fit_transform(y), columns=y.columns)"
      ]
    },
    {
      "cell_type": "code",
      "execution_count": null,
      "metadata": {
        "colab": {
          "base_uri": "https://localhost:8080/"
        },
        "id": "ATI4VaI1g9tc",
        "outputId": "b4bcc25f-90ec-450b-b66f-1afb06458919"
      },
      "outputs": [
        {
          "name": "stdout",
          "output_type": "stream",
          "text": [
            "0.9186390166146278\n",
            "[[0.78888977 0.46637128 0.36741804 0.00327103 0.43562802]]\n"
          ]
        }
      ],
      "source": [
        "beta_mat = 0\n",
        "r2Score = 0\n",
        "max = -1\n",
        "for i in range(1,6):\n",
        "  x_train,x_test,y_train,y_test = train_test_split(x,y,test_size=0.30,random_state=i*10)\n",
        "  reg = linear_model.LinearRegression()\n",
        "  reg.fit(x_train,y_train)\n",
        "  predict_data = reg.predict(x_test)\n",
        "  score = r2_score(y_test,predict_data)\n",
        "  if score > r2Score :\n",
        "    r2Score = score\n",
        "    beta_mat = reg.coef_\n",
        "    max = i\n",
        "print(r2Score)\n",
        "print(beta_mat)"
      ]
    },
    {
      "cell_type": "code",
      "execution_count": null,
      "metadata": {
        "colab": {
          "base_uri": "https://localhost:8080/"
        },
        "id": "jnuR6icIhA_U",
        "outputId": "c3dc250b-69f0-42cd-f68c-fc5c2d079c69"
      },
      "outputs": [
        {
          "name": "stdout",
          "output_type": "stream",
          "text": [
            "0.032908584002618736\n"
          ]
        }
      ],
      "source": [
        "x_train,x_test,y_train,y_test = train_test_split(x,y,test_size=0.30,random_state=max*10)\n",
        "reg = linear_model.LinearRegression()\n",
        "reg.fit(x_train,y_train)\n",
        "predict_data = reg.predict(x_test)\n",
        "score = r2_score(y_test,predict_data)\n",
        "print(mean_absolute_error(y_test,predict_data))"
      ]
    },
    {
      "cell_type": "markdown",
      "metadata": {
        "id": "Pi3lam9QJ94R"
      },
      "source": [
        "Question 2"
      ]
    },
    {
      "cell_type": "code",
      "execution_count": null,
      "metadata": {
        "colab": {
          "base_uri": "https://localhost:8080/"
        },
        "id": "qgC5dzaUKGit",
        "outputId": "9c423fe3-9f78-462a-dd41-ff8cdcc8e19a"
      },
      "outputs": [
        {
          "name": "stdout",
          "output_type": "stream",
          "text": [
            "0.8088125092779549\n",
            "0.8064277854259081\n",
            "[[-0.20894475]\n",
            " [ 0.50048395]\n",
            " [ 0.33228457]\n",
            " [ 0.20813715]\n",
            " [ 0.01980893]\n",
            " [ 0.29310584]]\n"
          ]
        }
      ],
      "source": [
        "import pandas as pd\n",
        "import numpy as np\n",
        "from random import randrange\n",
        "from sklearn.metrics import r2_score\n",
        "\n",
        "## alternative of train test split\n",
        "def train_test_split(dataset,split):\n",
        "  train=pd.DataFrame()\n",
        "  train_size = split*len(dataset)\n",
        "  dataset_copy = dataset.copy()\n",
        "  while len(train) < train_size :\n",
        "    index = randrange(len(dataset_copy))\n",
        "    train = train.append(dataset_copy.iloc[index],ignore_index=True)\n",
        "    dataset_copy = dataset_copy.drop(labels=index,axis=0)\n",
        "    temp = pd.DataFrame()\n",
        "    temp = temp.append(dataset_copy,ignore_index=True)\n",
        "    dataset_copy=temp\n",
        "  return train,dataset_copy\n",
        "\n",
        "## Regression model using gradient descent method\n",
        "def model(X,Y,learning_rate,iterations):\n",
        "  m=Y.size\n",
        "  theta=np.zeros((X.shape[1],1))\n",
        "  cost_list=[]\n",
        "  for i in range(iterations):\n",
        "    y_pred=np.dot(X,theta)\n",
        "    cost=(1/(2*m))*np.sum(np.square(y_pred-Y))\n",
        "    d_theta=(1/m)*np.dot(X.T,y_pred-Y)\n",
        "    theta=theta-learning_rate*d_theta\n",
        "    cost_list.append(cost)\n",
        "  return theta,cost_list\n",
        "  \n",
        "df = pd.read_csv('/content/USA_Housing.csv')\n",
        "\n",
        "##Normalization\n",
        "df=(df-df.min())/(df.max()-df.min())\n",
        "\n",
        "beta_mat = []\n",
        "beta_mat = np.array(beta_mat)\n",
        "r2Score_validate = -1000\n",
        "r2Score_test = -1000\n",
        "df_train_validate,df_test = train_test_split(df,0.7)\n",
        "df_train,df_validate = train_test_split(df_train_validate,0.8)\n",
        "x_train = df_train[['Avg. Area Income','Avg. Area House Age','Avg. Area Number of Rooms','Avg. Area Number of Bedrooms','Area Population']]\n",
        "y_train = df_train[['Price']]\n",
        "x_validate = df_validate[['Avg. Area Income','Avg. Area House Age','Avg. Area Number of Rooms','Avg. Area Number of Bedrooms','Area Population']]\n",
        "y_validate = df_validate[['Price']]\n",
        "x_test = df_test[['Avg. Area Income','Avg. Area House Age','Avg. Area Number of Rooms','Avg. Area Number of Bedrooms','Area Population']]\n",
        "y_test = df_test[['Price']]\n",
        "xnew=np.vstack((np.ones((x_train.shape[0],)),x_train.T)).T \n",
        "x_test=np.vstack((np.ones((x_test.shape[0],)),x_test.T)).T \n",
        "x_validate=np.vstack((np.ones((x_validate.shape[0],)),x_validate.T)).T\n",
        "for i in range(1,5):\n",
        "  iterations=1000\n",
        "  learning_rate=0.0001*(10**i)\n",
        "  theta,cost_list=model(xnew,y_train,learning_rate=learning_rate,iterations=iterations)\n",
        "  y_pred_validate=np.dot(x_validate,theta)\n",
        "  y_pred_test = np.dot(x_test,theta)\n",
        "\n",
        "  r2_score_validate = r2_score(np.array(y_validate),np.array(y_pred_validate))\n",
        "  r2_score_test = r2_score(np.array(y_test),np.array(y_pred_test))\n",
        "\n",
        "  if r2_score_validate > r2Score_validate :\n",
        "      r2Score_validate = r2_score_validate\n",
        "      beta_mat = theta.copy()\n",
        "\n",
        "  if r2_score_test > r2Score_test :\n",
        "    r2Score_test = r2_score_test\n",
        "    beta_mat = theta.copy()\n",
        "print(r2Score_test)\n",
        "print(r2Score_validate)\n",
        "print(beta_mat)\n",
        "\n"
      ]
    },
    {
      "cell_type": "markdown",
      "metadata": {
        "id": "TRwFLFaR8__o"
      },
      "source": [
        "Question 3"
      ]
    },
    {
      "cell_type": "code",
      "execution_count": null,
      "metadata": {
        "id": "tejrjuEH9FHO"
      },
      "outputs": [],
      "source": [
        "import pandas as pd\n",
        "from sklearn.preprocessing import MinMaxScaler,LabelEncoder\n",
        "from sklearn.impute import SimpleImputer\n",
        "from sklearn.metrics import mean_absolute_error\n",
        "from word2number import w2n\n",
        "from sklearn.linear_model import LinearRegression\n",
        "from sklearn.model_selection import train_test_split\n",
        "from sklearn.decomposition import PCA\n",
        "df = pd.read_csv('/content/imports-85.data')\n",
        "df.columns = [\"symboling\", \"normalized_losses\",\"make\", \"fuel_type\", \"aspiration\",\"num_doors\", \"body_style\", \"drive_wheels\",\"engine_location\", \"wheel_base\", \"length\", \"width\", \"height\", \"curb_weight\",\"engine_type\", \"num_cylinders\", \"engine_size\", \"fuel_system\", \"bore\", \"stroke\",\"compression_ratio\", \"horsepower\", \"peak_rpm\", \"city_mpg\", \"highway_mpg\", \"price\"]\n",
        "df = df.replace(\"?\",\"NaN\")\n",
        "df = df[df.price!=\"NaN\"]\n",
        "imputer = SimpleImputer(missing_values = \"NaN\",strategy = \"most_frequent\")\n",
        "imputer = imputer.fit(df)\n",
        "df= imputer.transform(df)\n",
        "df = pd.DataFrame(df)\n",
        "df.columns = [\"symboling\", \"normalized_losses\",\"make\", \"fuel_type\", \"aspiration\",\"num_doors\", \"body_style\", \"drive_wheels\",\"engine_location\", \"wheel_base\", \"length\", \"width\", \"height\", \"curb_weight\",\"engine_type\", \"num_cylinders\", \"engine_size\", \"fuel_system\", \"bore\", \"stroke\",\"compression_ratio\", \"horsepower\", \"peak_rpm\", \"city_mpg\", \"highway_mpg\", \"price\"]\n",
        "\n",
        "for i in range(0,df.shape[0]) :\n",
        "  df[\"num_doors\"][i]=w2n.word_to_num(df[\"num_doors\"][i])\n",
        "for i in range(0,df.shape[0]) :\n",
        "  df[\"num_cylinders\"][i]=w2n.word_to_num(df[\"num_cylinders\"][i])\n",
        "encoded_body=pd.get_dummies(df['body_style'])\n",
        "encoded_wheels=pd.get_dummies(df['drive_wheels'])\n",
        "df=df.drop(['body_style'],axis=1)\n",
        "df=df.drop(['drive_wheels'],axis=1)\n",
        "frames = [df, encoded_body]\n",
        "  \n",
        "df = pd.concat(frames,axis=1)\n",
        "label_encoder = LabelEncoder()\n",
        "df[\"make\"]=label_encoder.fit_transform(df[\"make\"])\n",
        "df[\"aspiration\"]=label_encoder.fit_transform(df[\"aspiration\"])\n",
        "df[\"engine_location\"]=label_encoder.fit_transform(df[\"engine_location\"])\n",
        "df[\"fuel_type\"]=label_encoder.fit_transform(df[\"fuel_type\"])\n",
        "for i in range(0,df.shape[0]) :\n",
        "  if df[\"fuel_system\"][i].find(\"pfi\")!=-1 :\n",
        "    df[\"fuel_system\"][i]=1\n",
        "  else :\n",
        "    df[\"fuel_system\"][i]=0\n",
        "for i in range(0,df.shape[0]) :\n",
        "  if df[\"engine_type\"][i].find(\"ohc\")!=-1 :\n",
        "    df[\"engine_type\"][i]=1\n",
        "  else :\n",
        "    df[\"engine_type\"][i]=0\n",
        "x = df.drop([\"price\"],axis=1)\n",
        "y = df[[\"price\"]]\n",
        "scaler = MinMaxScaler()\n",
        "# fit and transform the data\n",
        "x = pd.DataFrame(scaler.fit_transform(x), columns=x.columns)\n",
        "y = pd.DataFrame(scaler.fit_transform(y), columns=y.columns)\n",
        "model=LinearRegression()\n",
        "X_train,X_test,Y_train,Y_test=train_test_split(x,y,train_size=0.7,random_state=0)\n",
        "final_model=model.fit(X_train,Y_train)\n",
        "Y_predicted_final=model.predict(X_test)\n",
        "print(mean_absolute_error(Y_test,Y_predicted_final))\n",
        "\n",
        "\n",
        "pca = PCA(n_components = 20)\n",
        "pca.fit(x)\n",
        "x = pca.transform(x)\n",
        "x = pd.DataFrame(x)\n",
        "model=LinearRegression()\n",
        "X_train,X_test,Y_train,Y_test=train_test_split(x,y,train_size=0.7,random_state=0)\n",
        "final_model=model.fit(X_train,Y_train)\n",
        "Y_predicted_final=model.predict(X_test)\n",
        "print(mean_absolute_error(Y_test,Y_predicted_final))"
      ]
    },
    {
      "cell_type": "code",
      "execution_count": null,
      "metadata": {
        "id": "ZHYy6dWA-lOd"
      },
      "outputs": [],
      "source": []
    }
  ],
  "metadata": {
    "colab": {
      "collapsed_sections": [],
      "provenance": []
    },
    "kernelspec": {
      "display_name": "Python 3.8.2 64-bit",
      "language": "python",
      "name": "python3"
    },
    "language_info": {
      "codemirror_mode": {
        "name": "ipython",
        "version": 3
      },
      "file_extension": ".py",
      "mimetype": "text/x-python",
      "name": "python",
      "nbconvert_exporter": "python",
      "pygments_lexer": "ipython3",
      "version": "3.8.2"
    },
    "vscode": {
      "interpreter": {
        "hash": "31f2aee4e71d21fbe5cf8b01ff0e069b9275f58929596ceb00d14d90e3e16cd6"
      }
    }
  },
  "nbformat": 4,
  "nbformat_minor": 0
}