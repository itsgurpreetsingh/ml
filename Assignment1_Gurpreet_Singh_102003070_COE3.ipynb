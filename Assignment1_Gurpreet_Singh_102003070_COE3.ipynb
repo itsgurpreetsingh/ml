{
  "cells": [
    {
      "cell_type": "code",
      "execution_count": 2,
      "metadata": {
        "colab": {
          "base_uri": "https://localhost:8080/"
        },
        "id": "Ss4d1mfAdbG1",
        "outputId": "661437ae-a1f8-458b-e7cc-addf9e817488"
      },
      "outputs": [
        {
          "name": "stdout",
          "output_type": "stream",
          "text": [
            "Reversed array is : \n"
          ]
        },
        {
          "data": {
            "text/plain": [
              "array([5, 4, 6, 3, 2, 1])"
            ]
          },
          "execution_count": 2,
          "metadata": {},
          "output_type": "execute_result"
        }
      ],
      "source": [
        "#question 1\n",
        "#a\n",
        "import numpy as np\n",
        "arr=np.array([1,2,3,6,4,5])\n",
        "arr=np.flip(arr)\n",
        "print(\"Reversed array is : \")\n",
        "arr"
      ]
    },
    {
      "cell_type": "code",
      "execution_count": 3,
      "metadata": {
        "colab": {
          "base_uri": "https://localhost:8080/"
        },
        "id": "9Nf4msWweS0e",
        "outputId": "b2894199-64d0-43b7-b8ae-8526617b5c99"
      },
      "outputs": [
        {
          "data": {
            "text/plain": [
              "array([[1, 2, 3, 2, 4, 5, 1, 2, 3]])"
            ]
          },
          "execution_count": 3,
          "metadata": {},
          "output_type": "execute_result"
        }
      ],
      "source": [
        "#b\n",
        "array1 = np.array([[1,2,3],[2,4,5],[1,2,3]])\n",
        "arr=array1.flatten()\n",
        "arr\n",
        "array1 = np.array([[1,2,3],[2,4,5],[1,2,3]])\n",
        "arr1=array1.reshape(1,9)\n",
        "arr1\n"
      ]
    },
    {
      "cell_type": "code",
      "execution_count": 15,
      "metadata": {
        "colab": {
          "base_uri": "https://localhost:8080/"
        },
        "id": "SP_ZRNj3hGbf",
        "outputId": "58f137da-ed2a-4c9f-9675-b274b3b878d3"
      },
      "outputs": [
        {
          "name": "stdout",
          "output_type": "stream",
          "text": [
            "equal\n"
          ]
        }
      ],
      "source": [
        "\n",
        "#c\n",
        "arr1 = np.array([[1,2],[3,4]])\n",
        "arr2 = np.array([[1,2],[3,4]])\n",
        "if np.array_equal(arr1,arr2):\n",
        "  print(\"equal\")\n",
        "else:\n",
        "  print(\"Not equal\")\n"
      ]
    },
    {
      "cell_type": "code",
      "execution_count": null,
      "metadata": {
        "colab": {
          "base_uri": "https://localhost:8080/"
        },
        "id": "W9HqVumVhvcV",
        "outputId": "45e26d7e-74aa-47e8-eb3e-8c9684d5cf51"
      },
      "outputs": [],
      "source": [
        "#d\n",
        "x = np.array([1,2,3,4,5,1,2,1,1,1])\n",
        "y = np.array([1,1,1,2,3,4,2,4,3,3,])\n",
        "#for x\n",
        "ans=np.bincount(x)\n",
        "maximum=max(ans)\n",
        "for i in range(len(ans)):\n",
        "  if ans[i]==maximum:\n",
        "   print(i)\n",
        "#for y\n",
        "ans=np.bincount(y)\n",
        "maximum=max(ans)\n",
        "for i in range(len(ans)):\n",
        "  if ans[i]==maximum:\n",
        "   print(i)"
      ]
    },
    {
      "cell_type": "code",
      "execution_count": null,
      "metadata": {
        "id": "_s17DnkXpzIu"
      },
      "outputs": [],
      "source": [
        "#e\n",
        "gfg = np.matrix('[4,1,9; 12,3,1; 4,5,6]')\n",
        "print(\"Sum of all elements of array is \",np.sum(gfg))\n",
        "print(\"Column wise sum of elements of array is \")\n",
        "print(np.sum(gfg,axis=0))\n",
        "print(\"Row wise sum of elements of array is \")\n",
        "print(np.sum(gfg,axis=1))"
      ]
    },
    {
      "cell_type": "code",
      "execution_count": null,
      "metadata": {
        "id": "mwhxujkTqRMg"
      },
      "outputs": [],
      "source": [
        "#f\n",
        "n_array = np.array([[55,25,15],[30,44,2],[11,45,77]])\n",
        "print(\"Sum of diagonals is \",np.trace(n_array))\n",
        "eVal,eVec = np.linalg.eig(n_array)\n",
        "print(\"Eigen values of given array are \")\n",
        "print(eVal)\n",
        "print(\"Eigen vector of given array is \")\n",
        "print(eVec)\n",
        "print(\"Inverse of given array is \")\n",
        "print(np.linalg.inv(n_array))\n",
        "print(\"Determinant of given array is \")\n",
        "print(np.linalg.det(n_array))"
      ]
    },
    {
      "cell_type": "code",
      "execution_count": 20,
      "metadata": {
        "id": "63CVgoSmq8WX"
      },
      "outputs": [
        {
          "name": "stdout",
          "output_type": "stream",
          "text": [
            "p * q is \n",
            "[[16 19]\n",
            " [26 31]]\n",
            "Covariance between these is \n",
            "[[0.5 0.5 0.5 0.5]\n",
            " [0.5 0.5 0.5 0.5]\n",
            " [0.5 0.5 0.5 0.5]\n",
            " [0.5 0.5 0.5 0.5]]\n",
            "\n",
            "p * q is\n",
            "[[16 19  5]\n",
            " [26 31  8]\n",
            " [46 55 14]]\n",
            "Covariance between these is\n",
            "[[  0.5   0.5   0.5   0.5   2.5  -2.5]\n",
            " [  0.5   0.5   0.5   0.5   2.5  -2.5]\n",
            " [  0.5   0.5   0.5   0.5   2.5  -2.5]\n",
            " [  0.5   0.5   0.5   0.5   2.5  -2.5]\n",
            " [  2.5   2.5   2.5   2.5  12.5 -12.5]\n",
            " [ -2.5  -2.5  -2.5  -2.5 -12.5  12.5]]\n"
          ]
        }
      ],
      "source": [
        "#g\n",
        "p = np.array([[1,2],[2,3]])\n",
        "q = np.array([[4,5],[6,7]])\n",
        "print(\"p * q is \")\n",
        "print(np.matmul(p,q))\n",
        "print(\"Covariance between these is \")\n",
        "print(np.cov(p,q))\n",
        "print()\n",
        "p = np.array([[1,2],[2,3],[4,5]])\n",
        "q = np.array([[4,5,1],[6,7,2]])\n",
        "print(\"p * q is\")\n",
        "print(np.matmul(p,q))\n",
        "q = q.reshape(3,2)\n",
        "print(\"Covariance between these is\")\n",
        "print(np.cov(p,q))"
      ]
    },
    {
      "cell_type": "code",
      "execution_count": null,
      "metadata": {
        "id": "FS1jVLv4rlGK"
      },
      "outputs": [],
      "source": [
        "#h\n",
        "x = np.array([[2,3,4],[3,2,9]])\n",
        "y = np.array([[1,5,0],[5,10,3]])\n",
        "print(\"Inner product is \")\n",
        "print(np.inner(x,y))\n",
        "print(\"Outer product is \")\n",
        "print(np.outer(x,y))\n",
        "print(\"Cartesian product is \")\n",
        "print(np.cross(x,y))"
      ]
    },
    {
      "cell_type": "code",
      "execution_count": null,
      "metadata": {
        "id": "brtBv7hbrxOn"
      },
      "outputs": [],
      "source": [
        "#question 2\n",
        "#i\n",
        "arr = np.array([[1,-2,3],[-3,4,-6]])\n",
        "print(\"Element wise absolute values are \")\n",
        "print(np.abs(arr))\n",
        "#ii\n",
        "print(\"Percentile of flattened array\")\n",
        "print(\"25th \",np.percentile(arr.flatten(),25))\n",
        "print(\"50th \",np.percentile(arr.flatten(),50))\n",
        "print(\"75th \",np.percentile(arr.flatten(),75))\n",
        "print(\"Percentile for each column \")\n",
        "print(\"25th \",np.percentile(arr,25,axis=0))\n",
        "print(\"50th \",np.percentile(arr,50,axis=0))\n",
        "print(\"75th \",np.percentile(arr,75,axis=0))\n",
        "print(\"Percentile for each row\")\n",
        "print(\"25th \",np.percentile(arr,25,axis=1))\n",
        "print(\"50th \",np.percentile(arr,50,axis=1))\n",
        "print(\"75th \",np.percentile(arr,75,axis=1))\n",
        "#iii\n",
        "print(\"Mean of flattened array\")\n",
        "print(np.mean(arr.flatten()))\n",
        "print(\"Row wise mean is \")\n",
        "print(np.mean(arr,axis=1))\n",
        "print(\"Column wise mean is \")\n",
        "print(np.mean(arr,axis=0))\n",
        "\n",
        "print(\"Median of flattened array\")\n",
        "print(np.median(arr.flatten()))\n",
        "print(\"Row wise median is \")\n",
        "print(np.median(arr,axis=1))\n",
        "print(\"Column wise median is \")\n",
        "print(np.median(arr,axis=0))\n",
        "\n",
        "print(\"Standard deviation of flattened array\")\n",
        "print(np.std(arr.flatten()))\n",
        "print(\"Row wise standard deviation is \")\n",
        "print(np.std(arr,axis=1))\n",
        "print(\"Column wise standard deviation is \")\n",
        "print(np.std(arr,axis=0))\n",
        "\n",
        "#b\n",
        "a = np.array([-1.8,-1.6,-0.5,0.5,1.6,1.8,3.0])\n",
        "print(\"Floor values \",np.floor(a))\n",
        "print(\"Ceil values \",np.ceil(a))\n",
        "print(\"Truncated values \",np.trunc(a))\n",
        "print(\"Rounded values \",np.round(a))"
      ]
    },
    {
      "cell_type": "code",
      "execution_count": 3,
      "metadata": {
        "id": "HU4gzT8ctnV5"
      },
      "outputs": [
        {
          "name": "stdout",
          "output_type": "stream",
          "text": [
            "Sorted array is  [ 10  16  16  52  54  62 453]\n",
            "Indices of sorted array  [0 3 4 1 5 2 6]\n",
            "4 smallest elements   [10 16 16 52]\n",
            "5 largest elements  [453  62  54  52  16]\n",
            "Integer values are  [1. 2. 3. 2.]\n",
            "Float values are  [1.2 2.2]\n"
          ]
        }
      ],
      "source": [
        "#question 3\n",
        "#a\n",
        "arr = np.array([10,52,62,16,16,54,453])\n",
        "print(\"Sorted array is \",np.sort(arr))\n",
        "print(\"Indices of sorted array \",np.argsort(arr))\n",
        "print(\"4 smallest elements  \",np.sort(arr)[0:4])\n",
        "print(\"5 largest elements \",np.sort(arr)[len(arr)-1:len(arr)-6:-1])\n",
        "\n",
        "#b\n",
        "arr = np.array([1.0,1.2,2.2,2.0,3.0,2.0])\n",
        "print(\"Integer values are \",arr[arr==arr.astype(int)])\n",
        "print(\"Float values are \",arr[arr!=arr.astype(int)])"
      ]
    },
    {
      "cell_type": "code",
      "execution_count": 4,
      "metadata": {},
      "outputs": [],
      "source": [
        "#question 4\n",
        "def img_to_array(path):\n",
        "    f = open(path,'rb')\n",
        "    newfile = open('newfile.txt', 'wb')\n",
        "\n",
        "    for line in f:\n",
        "        newfile.write(line)\n",
        "\n",
        "img_to_array('/Users/gurpreetsingh/Downloads/pexels-denise-2759315.jpg')\n",
        "\n"
      ]
    }
  ],
  "metadata": {
    "colab": {
      "collapsed_sections": [],
      "name": "Untitled0.ipynb",
      "provenance": []
    },
    "kernelspec": {
      "display_name": "Python 3.8.2 64-bit",
      "language": "python",
      "name": "python3"
    },
    "language_info": {
      "codemirror_mode": {
        "name": "ipython",
        "version": 3
      },
      "file_extension": ".py",
      "mimetype": "text/x-python",
      "name": "python",
      "nbconvert_exporter": "python",
      "pygments_lexer": "ipython3",
      "version": "3.8.2"
    },
    "vscode": {
      "interpreter": {
        "hash": "31f2aee4e71d21fbe5cf8b01ff0e069b9275f58929596ceb00d14d90e3e16cd6"
      }
    }
  },
  "nbformat": 4,
  "nbformat_minor": 0
}
