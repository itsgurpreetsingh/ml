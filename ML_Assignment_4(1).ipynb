{
  "nbformat": 4,
  "nbformat_minor": 0,
  "metadata": {
    "colab": {
      "provenance": [],
      "collapsed_sections": []
    },
    "kernelspec": {
      "name": "python3",
      "display_name": "Python 3"
    },
    "language_info": {
      "name": "python"
    }
  },
  "cells": [
    {
      "cell_type": "markdown",
      "source": [
        "# ML ASSIGNMENT - 4"
      ],
      "metadata": {
        "id": "4qc8fJUpvPt4"
      }
    },
    {
      "cell_type": "markdown",
      "source": [
        "## Qs1\n",
        "(Based on Step-by-Step Implementation of Ridge Regression using Gradient\n",
        "Descent Optimization)\n",
        "Generate a dataset with atleast seven highly correlated columns and a target variable.\n",
        "Implement Ridge Regression using Gradient Descent Optimization. Take different\n",
        "values of learning rate (such as 0.0001,0.001,0.01,0.1,1,10) and regularization\n",
        "parameter (10-15,10-10,10-5,10- 3,0,1,10,20). Choose the best parameters for which ridge\n",
        "regression cost function is minimum and R2_score is maximum."
      ],
      "metadata": {
        "id": "83Uty_k2vVzb"
      }
    },
    {
      "cell_type": "code",
      "source": [
        "import numpy as np\n",
        "import matplotlib.pyplot as plt\n",
        "import pandas as pd\n",
        "import seaborn as sns"
      ],
      "metadata": {
        "id": "leKAOuQTvXxf"
      },
      "execution_count": null,
      "outputs": []
    },
    {
      "cell_type": "code",
      "source": [
        "from sklearn import datasets\n",
        "X, y, coef = datasets.make_regression(n_samples=100,#number of samples\n",
        "                                      n_features=7,#number of features\n",
        "                                      n_informative=7,#number of useful features \n",
        "                                      noise=10,#bias and standard deviation of the guassian noise\n",
        "                                      coef=True,#true coefficient used to generated the data\n",
        "                                      random_state=0) #set for same data points for each run"
      ],
      "metadata": {
        "id": "0brVEjQA4Gzs"
      },
      "execution_count": null,
      "outputs": []
    },
    {
      "cell_type": "code",
      "source": [
        "data = np.column_stack((X,y))"
      ],
      "metadata": {
        "id": "JgGsQxTR4b6F"
      },
      "execution_count": null,
      "outputs": []
    },
    {
      "cell_type": "code",
      "source": [
        "df = pd.DataFrame(data = data,columns = ['x1','x2','x3','x4','x5','x6','x7','y'])"
      ],
      "metadata": {
        "id": "zK0R4CcK6ceJ"
      },
      "execution_count": null,
      "outputs": []
    },
    {
      "cell_type": "code",
      "source": [
        "df.head()"
      ],
      "metadata": {
        "colab": {
          "base_uri": "https://localhost:8080/",
          "height": 206
        },
        "id": "5jr5vyVlxQGF",
        "outputId": "5eca4e47-7278-4a6e-c367-6fba9f031307"
      },
      "execution_count": null,
      "outputs": [
        {
          "output_type": "execute_result",
          "data": {
            "text/plain": [
              "         x1        x2        x3        x4        x5        x6        x7  \\\n",
              "0 -0.971105  0.821586  0.800565  0.005293 -0.395229  0.314817  0.078260   \n",
              "1  0.066517 -0.634322 -0.672460 -0.362741 -0.813146  0.302472 -0.359553   \n",
              "2 -1.726283 -0.401781  0.462782 -1.630198  0.051945  0.177426 -0.907298   \n",
              "3 -0.493320  0.416050  0.781198 -1.156182 -2.069985 -0.542861  1.494485   \n",
              "4 -1.676004  1.079619 -1.466424 -0.813364 -0.575788  1.152332  0.521065   \n",
              "\n",
              "            y  \n",
              "0   75.288384  \n",
              "1 -149.459338  \n",
              "2 -162.524843  \n",
              "3  -10.590221  \n",
              "4  -67.912197  "
            ],
            "text/html": [
              "\n",
              "  <div id=\"df-72af76be-a542-4390-b495-23bd6722bedd\">\n",
              "    <div class=\"colab-df-container\">\n",
              "      <div>\n",
              "<style scoped>\n",
              "    .dataframe tbody tr th:only-of-type {\n",
              "        vertical-align: middle;\n",
              "    }\n",
              "\n",
              "    .dataframe tbody tr th {\n",
              "        vertical-align: top;\n",
              "    }\n",
              "\n",
              "    .dataframe thead th {\n",
              "        text-align: right;\n",
              "    }\n",
              "</style>\n",
              "<table border=\"1\" class=\"dataframe\">\n",
              "  <thead>\n",
              "    <tr style=\"text-align: right;\">\n",
              "      <th></th>\n",
              "      <th>x1</th>\n",
              "      <th>x2</th>\n",
              "      <th>x3</th>\n",
              "      <th>x4</th>\n",
              "      <th>x5</th>\n",
              "      <th>x6</th>\n",
              "      <th>x7</th>\n",
              "      <th>y</th>\n",
              "    </tr>\n",
              "  </thead>\n",
              "  <tbody>\n",
              "    <tr>\n",
              "      <th>0</th>\n",
              "      <td>-0.971105</td>\n",
              "      <td>0.821586</td>\n",
              "      <td>0.800565</td>\n",
              "      <td>0.005293</td>\n",
              "      <td>-0.395229</td>\n",
              "      <td>0.314817</td>\n",
              "      <td>0.078260</td>\n",
              "      <td>75.288384</td>\n",
              "    </tr>\n",
              "    <tr>\n",
              "      <th>1</th>\n",
              "      <td>0.066517</td>\n",
              "      <td>-0.634322</td>\n",
              "      <td>-0.672460</td>\n",
              "      <td>-0.362741</td>\n",
              "      <td>-0.813146</td>\n",
              "      <td>0.302472</td>\n",
              "      <td>-0.359553</td>\n",
              "      <td>-149.459338</td>\n",
              "    </tr>\n",
              "    <tr>\n",
              "      <th>2</th>\n",
              "      <td>-1.726283</td>\n",
              "      <td>-0.401781</td>\n",
              "      <td>0.462782</td>\n",
              "      <td>-1.630198</td>\n",
              "      <td>0.051945</td>\n",
              "      <td>0.177426</td>\n",
              "      <td>-0.907298</td>\n",
              "      <td>-162.524843</td>\n",
              "    </tr>\n",
              "    <tr>\n",
              "      <th>3</th>\n",
              "      <td>-0.493320</td>\n",
              "      <td>0.416050</td>\n",
              "      <td>0.781198</td>\n",
              "      <td>-1.156182</td>\n",
              "      <td>-2.069985</td>\n",
              "      <td>-0.542861</td>\n",
              "      <td>1.494485</td>\n",
              "      <td>-10.590221</td>\n",
              "    </tr>\n",
              "    <tr>\n",
              "      <th>4</th>\n",
              "      <td>-1.676004</td>\n",
              "      <td>1.079619</td>\n",
              "      <td>-1.466424</td>\n",
              "      <td>-0.813364</td>\n",
              "      <td>-0.575788</td>\n",
              "      <td>1.152332</td>\n",
              "      <td>0.521065</td>\n",
              "      <td>-67.912197</td>\n",
              "    </tr>\n",
              "  </tbody>\n",
              "</table>\n",
              "</div>\n",
              "      <button class=\"colab-df-convert\" onclick=\"convertToInteractive('df-72af76be-a542-4390-b495-23bd6722bedd')\"\n",
              "              title=\"Convert this dataframe to an interactive table.\"\n",
              "              style=\"display:none;\">\n",
              "        \n",
              "  <svg xmlns=\"http://www.w3.org/2000/svg\" height=\"24px\"viewBox=\"0 0 24 24\"\n",
              "       width=\"24px\">\n",
              "    <path d=\"M0 0h24v24H0V0z\" fill=\"none\"/>\n",
              "    <path d=\"M18.56 5.44l.94 2.06.94-2.06 2.06-.94-2.06-.94-.94-2.06-.94 2.06-2.06.94zm-11 1L8.5 8.5l.94-2.06 2.06-.94-2.06-.94L8.5 2.5l-.94 2.06-2.06.94zm10 10l.94 2.06.94-2.06 2.06-.94-2.06-.94-.94-2.06-.94 2.06-2.06.94z\"/><path d=\"M17.41 7.96l-1.37-1.37c-.4-.4-.92-.59-1.43-.59-.52 0-1.04.2-1.43.59L10.3 9.45l-7.72 7.72c-.78.78-.78 2.05 0 2.83L4 21.41c.39.39.9.59 1.41.59.51 0 1.02-.2 1.41-.59l7.78-7.78 2.81-2.81c.8-.78.8-2.07 0-2.86zM5.41 20L4 18.59l7.72-7.72 1.47 1.35L5.41 20z\"/>\n",
              "  </svg>\n",
              "      </button>\n",
              "      \n",
              "  <style>\n",
              "    .colab-df-container {\n",
              "      display:flex;\n",
              "      flex-wrap:wrap;\n",
              "      gap: 12px;\n",
              "    }\n",
              "\n",
              "    .colab-df-convert {\n",
              "      background-color: #E8F0FE;\n",
              "      border: none;\n",
              "      border-radius: 50%;\n",
              "      cursor: pointer;\n",
              "      display: none;\n",
              "      fill: #1967D2;\n",
              "      height: 32px;\n",
              "      padding: 0 0 0 0;\n",
              "      width: 32px;\n",
              "    }\n",
              "\n",
              "    .colab-df-convert:hover {\n",
              "      background-color: #E2EBFA;\n",
              "      box-shadow: 0px 1px 2px rgba(60, 64, 67, 0.3), 0px 1px 3px 1px rgba(60, 64, 67, 0.15);\n",
              "      fill: #174EA6;\n",
              "    }\n",
              "\n",
              "    [theme=dark] .colab-df-convert {\n",
              "      background-color: #3B4455;\n",
              "      fill: #D2E3FC;\n",
              "    }\n",
              "\n",
              "    [theme=dark] .colab-df-convert:hover {\n",
              "      background-color: #434B5C;\n",
              "      box-shadow: 0px 1px 3px 1px rgba(0, 0, 0, 0.15);\n",
              "      filter: drop-shadow(0px 1px 2px rgba(0, 0, 0, 0.3));\n",
              "      fill: #FFFFFF;\n",
              "    }\n",
              "  </style>\n",
              "\n",
              "      <script>\n",
              "        const buttonEl =\n",
              "          document.querySelector('#df-72af76be-a542-4390-b495-23bd6722bedd button.colab-df-convert');\n",
              "        buttonEl.style.display =\n",
              "          google.colab.kernel.accessAllowed ? 'block' : 'none';\n",
              "\n",
              "        async function convertToInteractive(key) {\n",
              "          const element = document.querySelector('#df-72af76be-a542-4390-b495-23bd6722bedd');\n",
              "          const dataTable =\n",
              "            await google.colab.kernel.invokeFunction('convertToInteractive',\n",
              "                                                     [key], {});\n",
              "          if (!dataTable) return;\n",
              "\n",
              "          const docLinkHtml = 'Like what you see? Visit the ' +\n",
              "            '<a target=\"_blank\" href=https://colab.research.google.com/notebooks/data_table.ipynb>data table notebook</a>'\n",
              "            + ' to learn more about interactive tables.';\n",
              "          element.innerHTML = '';\n",
              "          dataTable['output_type'] = 'display_data';\n",
              "          await google.colab.output.renderOutput(dataTable, element);\n",
              "          const docLink = document.createElement('div');\n",
              "          docLink.innerHTML = docLinkHtml;\n",
              "          element.appendChild(docLink);\n",
              "        }\n",
              "      </script>\n",
              "    </div>\n",
              "  </div>\n",
              "  "
            ]
          },
          "metadata": {},
          "execution_count": 398
        }
      ]
    },
    {
      "cell_type": "code",
      "source": [
        "corr = df.corr()\n",
        "plt.figure(figsize=(11,8))\n",
        "sns.heatmap(corr, cmap=\"Greens\",annot=True)\n",
        "plt.show()"
      ],
      "metadata": {
        "colab": {
          "base_uri": "https://localhost:8080/",
          "height": 487
        },
        "id": "m6ZVnXgtyGsa",
        "outputId": "8c888b1b-2e12-4754-fe3a-e05cd7252e20"
      },
      "execution_count": null,
      "outputs": [
        {
          "output_type": "display_data",
          "data": {
            "text/plain": [
              "<Figure size 792x576 with 2 Axes>"
            ],
            "image/png": "[encoded data removed]"
          },
          "metadata": {
            "needs_background": "light"
          }
        }
      ]
    },
    {
      "cell_type": "code",
      "source": [
        "from sklearn.linear_model import Ridge\n",
        "from sklearn.metrics import mean_squared_error, r2_score\n",
        "from sklearn.model_selection import train_test_split"
      ],
      "metadata": {
        "id": "vzqTTUqFy4yf"
      },
      "execution_count": null,
      "outputs": []
    },
    {
      "cell_type": "code",
      "source": [
        "X = df.drop(columns = ['y'])\n",
        "y = df['y']"
      ],
      "metadata": {
        "id": "rpsHgy9wzaHH"
      },
      "execution_count": null,
      "outputs": []
    },
    {
      "cell_type": "code",
      "source": [
        "X_train,X_test,y_train,y_test = train_test_split(X,y,test_size = 0.2,random_state = 42)"
      ],
      "metadata": {
        "id": "IBUHbQULzmVg"
      },
      "execution_count": null,
      "outputs": []
    },
    {
      "cell_type": "code",
      "source": [
        "class RidgeRegression() :\n",
        "    def __init__( self, learning_rate, iterations, l2_penality ) :\n",
        "          \n",
        "        self.learning_rate = learning_rate        \n",
        "        self.iterations = iterations        \n",
        "        self.l2_penality = l2_penality\n",
        "          \n",
        "    # Function for model training            \n",
        "    def fit( self, X, Y ) :\n",
        "          \n",
        "        # no_of_training_examples, no_of_features        \n",
        "        self.m, self.n = X.shape\n",
        "          \n",
        "        # weight initialization        \n",
        "        self.W = np.zeros( self.n )\n",
        "          \n",
        "        self.b = 0        \n",
        "        self.X = X        \n",
        "        self.Y = Y\n",
        "          \n",
        "        # gradient descent learning\n",
        "                  \n",
        "        for i in range( self.iterations ) :            \n",
        "            self.update_weights()            \n",
        "        return self\n",
        "      \n",
        "    # Helper function to update weights in gradient descent\n",
        "      \n",
        "    def update_weights( self ) :           \n",
        "        Y_pred = self.predict( self.X )\n",
        "          \n",
        "        # calculate gradients      \n",
        "        dW = ( - ( 2 * ( self.X.T ).dot( self.Y - Y_pred ) ) +               \n",
        "               ( 2 * self.l2_penality * self.W ) ) / self.m     \n",
        "        db = - 2 * np.sum( self.Y - Y_pred ) / self.m \n",
        "          \n",
        "        # update weights    \n",
        "        self.W = self.W - self.learning_rate * dW    \n",
        "        self.b = self.b - self.learning_rate * db        \n",
        "        return self\n",
        "      \n",
        "    # Hypothetical function  h( x ) \n",
        "    def predict( self, X ) :    \n",
        "        return X.dot( self.W ) + self.b      \n",
        "      "
      ],
      "metadata": {
        "id": "umeV9raKzydZ"
      },
      "execution_count": null,
      "outputs": []
    },
    {
      "cell_type": "code",
      "source": [
        "# Model training  \n",
        "alpha =  [0.0001,0.001,0.01,0.1,1,10]\n",
        "reg_parameter = [1e-15,1e-10,1e-5,1e-3,0,1,10,20]\n",
        "reg_pars = [[]]\n",
        "count = 0\n",
        "\n",
        "for i in range(len(alpha)):\n",
        "  for j in range(len(reg_parameter)):\n",
        "    try:\n",
        "      model = RidgeRegression(iterations = 1000,learning_rate = alpha[i], l2_penality =  reg_parameter[j])\n",
        "      model.fit( X_train, y_train )\n",
        "      y_pred = model.predict(X_test)\n",
        "      curr_score = r2_score(y_test,y_pred)\n",
        "      print(curr_score,count,end = '\\n\\n')\n",
        "      reg_pars.append([alpha[i],reg_parameter[j],curr_score])\n",
        "      count+=1\n",
        "    except:\n",
        "      continue"
      ],
      "metadata": {
        "colab": {
          "base_uri": "https://localhost:8080/"
        },
        "id": "2Uztc8t01769",
        "outputId": "ca11970f-c8bd-4259-e67d-527d682eccce"
      },
      "execution_count": null,
      "outputs": [
        {
          "output_type": "stream",
          "name": "stdout",
          "text": [
            "0.23709852852468316 0\n",
            "\n",
            "0.23709852852464908 1\n",
            "\n",
            "0.23709852512015284 2\n",
            "\n",
            "0.2370981880718972 3\n",
            "\n",
            "0.23709852852468316 4\n",
            "\n",
            "0.23675831560248561 5\n",
            "\n",
            "0.23371791114283325 6\n",
            "\n",
            "0.2303846875543044 7\n",
            "\n",
            "0.9558065694127321 8\n",
            "\n",
            "0.9558065694124397 9\n",
            "\n",
            "0.9558065401556083 10\n",
            "\n",
            "0.9558036436672933 11\n",
            "\n",
            "0.9558065694127321 12\n",
            "\n",
            "0.9528480973815959 13\n",
            "\n",
            "0.9237942629825999 14\n",
            "\n",
            "0.8881962269214744 15\n",
            "\n",
            "0.9943253866204742 16\n",
            "\n",
            "0.9943253866204176 17\n",
            "\n",
            "0.9943253809519805 18\n",
            "\n",
            "0.9943248195666949 19\n",
            "\n",
            "0.9943253866204742 20\n",
            "\n",
            "0.993558338911965 21\n",
            "\n",
            "0.973196212625655 22\n",
            "\n",
            "0.9349828933205067 23\n",
            "\n",
            "0.9943253700517314 24\n",
            "\n",
            "0.9943253700516748 25\n",
            "\n",
            "0.994325364383348 26\n",
            "\n",
            "0.9943248030089775 27\n",
            "\n",
            "0.9943253700517314 28\n",
            "\n",
            "0.9935583312933538 29\n",
            "\n",
            "0.9731962165833248 30\n",
            "\n",
            "0.9349828941417292 31\n",
            "\n"
          ]
        },
        {
          "output_type": "stream",
          "name": "stderr",
          "text": [
            "/usr/local/lib/python3.7/dist-packages/ipykernel_launcher.py:39: RuntimeWarning: invalid value encountered in double_scalars\n",
            "/usr/local/lib/python3.7/dist-packages/ipykernel_launcher.py:35: RuntimeWarning: overflow encountered in double_scalars\n",
            "/usr/local/lib/python3.7/dist-packages/ipykernel_launcher.py:39: RuntimeWarning: invalid value encountered in double_scalars\n"
          ]
        }
      ]
    },
    {
      "cell_type": "code",
      "source": [
        "max_score_index = 0\n",
        "reg_pars.remove([])\n",
        "for k in range(len(reg_pars)):\n",
        "  if(reg_pars[max_score_index][2] and reg_pars[max_score_index][2] < reg_pars[k][2]):\n",
        "    max_score_index = k\n",
        "\n",
        "print('Max r2 Score occurs at learning rate = ',reg_pars[max_score_index][0],\n",
        "      ',regularization parameter = ',reg_pars[max_score_index][1],\n",
        "      ' and r2 score = ',reg_pars[max_score_index][2])"
      ],
      "metadata": {
        "colab": {
          "base_uri": "https://localhost:8080/"
        },
        "id": "CXQO9zdkccUa",
        "outputId": "04cd2dcb-2bcd-4db0-a5c7-cf08922714a5"
      },
      "execution_count": null,
      "outputs": [
        {
          "output_type": "stream",
          "name": "stdout",
          "text": [
            "Max r2 Score occurs at learning rate =  0.01 ,regularization parameter =  1e-15  and r2 score =  0.9943253866204742\n"
          ]
        }
      ]
    },
    {
      "cell_type": "markdown",
      "source": [
        "## Qs2 \n",
        "Load the Hitters dataset from the following link\n",
        "https://drive.google.com/file/d/1qzCKF6JKKMB0p7ul_lLy8tdmRk3vE_bG/view?usp=sharing\n",
        "(a) Pre-process the data (null values, noise, categorical to numerical encoding)\n",
        "(b) Separate input and output features and perform scaling\n",
        "(c) Fit a Linear, Ridge (use regularization parameter as 0.5748), and LASSO (use\n",
        "regularization parameter as 0.5748) regression function on the dataset.\n",
        "(d) Evaluate the performance of each trained model on test set. Which model performs\n",
        "the best and Why?"
      ],
      "metadata": {
        "id": "msevlMvPgU9V"
      }
    },
    {
      "cell_type": "code",
      "source": [
        "h = pd.read_csv('/content/Hitters.csv')\n",
        "h.head()"
      ],
      "metadata": {
        "colab": {
          "base_uri": "https://localhost:8080/",
          "height": 270
        },
        "id": "YLfaRjbYgYl1",
        "outputId": "66e5dc7a-d6b1-47ea-a6ef-7855c0776296"
      },
      "execution_count": null,
      "outputs": [
        {
          "output_type": "execute_result",
          "data": {
            "text/plain": [
              "   AtBat  Hits  HmRun  Runs  RBI  Walks  Years  CAtBat  CHits  CHmRun  CRuns  \\\n",
              "0    293    66      1    30   29     14      1     293     66       1     30   \n",
              "1    315    81      7    24   38     39     14    3449    835      69    321   \n",
              "2    479   130     18    66   72     76      3    1624    457      63    224   \n",
              "3    496   141     20    65   78     37     11    5628   1575     225    828   \n",
              "4    321    87     10    39   42     30      2     396    101      12     48   \n",
              "\n",
              "   CRBI  CWalks League Division  PutOuts  Assists  Errors  Salary NewLeague  \n",
              "0    29      14      A        E      446       33      20     NaN         A  \n",
              "1   414     375      N        W      632       43      10   475.0         N  \n",
              "2   266     263      A        W      880       82      14   480.0         A  \n",
              "3   838     354      N        E      200       11       3   500.0         N  \n",
              "4    46      33      N        E      805       40       4    91.5         N  "
            ],
            "text/html": [
              "\n",
              "  <div id=\"df-09df0278-d8d1-4ee8-b71c-ffcbb4094050\">\n",
              "    <div class=\"colab-df-container\">\n",
              "      <div>\n",
              "<style scoped>\n",
              "    .dataframe tbody tr th:only-of-type {\n",
              "        vertical-align: middle;\n",
              "    }\n",
              "\n",
              "    .dataframe tbody tr th {\n",
              "        vertical-align: top;\n",
              "    }\n",
              "\n",
              "    .dataframe thead th {\n",
              "        text-align: right;\n",
              "    }\n",
              "</style>\n",
              "<table border=\"1\" class=\"dataframe\">\n",
              "  <thead>\n",
              "    <tr style=\"text-align: right;\">\n",
              "      <th></th>\n",
              "      <th>AtBat</th>\n",
              "      <th>Hits</th>\n",
              "      <th>HmRun</th>\n",
              "      <th>Runs</th>\n",
              "      <th>RBI</th>\n",
              "      <th>Walks</th>\n",
              "      <th>Years</th>\n",
              "      <th>CAtBat</th>\n",
              "      <th>CHits</th>\n",
              "      <th>CHmRun</th>\n",
              "      <th>CRuns</th>\n",
              "      <th>CRBI</th>\n",
              "      <th>CWalks</th>\n",
              "      <th>League</th>\n",
              "      <th>Division</th>\n",
              "      <th>PutOuts</th>\n",
              "      <th>Assists</th>\n",
              "      <th>Errors</th>\n",
              "      <th>Salary</th>\n",
              "      <th>NewLeague</th>\n",
              "    </tr>\n",
              "  </thead>\n",
              "  <tbody>\n",
              "    <tr>\n",
              "      <th>0</th>\n",
              "      <td>293</td>\n",
              "      <td>66</td>\n",
              "      <td>1</td>\n",
              "      <td>30</td>\n",
              "      <td>29</td>\n",
              "      <td>14</td>\n",
              "      <td>1</td>\n",
              "      <td>293</td>\n",
              "      <td>66</td>\n",
              "      <td>1</td>\n",
              "      <td>30</td>\n",
              "      <td>29</td>\n",
              "      <td>14</td>\n",
              "      <td>A</td>\n",
              "      <td>E</td>\n",
              "      <td>446</td>\n",
              "      <td>33</td>\n",
              "      <td>20</td>\n",
              "      <td>NaN</td>\n",
              "      <td>A</td>\n",
              "    </tr>\n",
              "    <tr>\n",
              "      <th>1</th>\n",
              "      <td>315</td>\n",
              "      <td>81</td>\n",
              "      <td>7</td>\n",
              "      <td>24</td>\n",
              "      <td>38</td>\n",
              "      <td>39</td>\n",
              "      <td>14</td>\n",
              "      <td>3449</td>\n",
              "      <td>835</td>\n",
              "      <td>69</td>\n",
              "      <td>321</td>\n",
              "      <td>414</td>\n",
              "      <td>375</td>\n",
              "      <td>N</td>\n",
              "      <td>W</td>\n",
              "      <td>632</td>\n",
              "      <td>43</td>\n",
              "      <td>10</td>\n",
              "      <td>475.0</td>\n",
              "      <td>N</td>\n",
              "    </tr>\n",
              "    <tr>\n",
              "      <th>2</th>\n",
              "      <td>479</td>\n",
              "      <td>130</td>\n",
              "      <td>18</td>\n",
              "      <td>66</td>\n",
              "      <td>72</td>\n",
              "      <td>76</td>\n",
              "      <td>3</td>\n",
              "      <td>1624</td>\n",
              "      <td>457</td>\n",
              "      <td>63</td>\n",
              "      <td>224</td>\n",
              "      <td>266</td>\n",
              "      <td>263</td>\n",
              "      <td>A</td>\n",
              "      <td>W</td>\n",
              "      <td>880</td>\n",
              "      <td>82</td>\n",
              "      <td>14</td>\n",
              "      <td>480.0</td>\n",
              "      <td>A</td>\n",
              "    </tr>\n",
              "    <tr>\n",
              "      <th>3</th>\n",
              "      <td>496</td>\n",
              "      <td>141</td>\n",
              "      <td>20</td>\n",
              "      <td>65</td>\n",
              "      <td>78</td>\n",
              "      <td>37</td>\n",
              "      <td>11</td>\n",
              "      <td>5628</td>\n",
              "      <td>1575</td>\n",
              "      <td>225</td>\n",
              "      <td>828</td>\n",
              "      <td>838</td>\n",
              "      <td>354</td>\n",
              "      <td>N</td>\n",
              "      <td>E</td>\n",
              "      <td>200</td>\n",
              "      <td>11</td>\n",
              "      <td>3</td>\n",
              "      <td>500.0</td>\n",
              "      <td>N</td>\n",
              "    </tr>\n",
              "    <tr>\n",
              "      <th>4</th>\n",
              "      <td>321</td>\n",
              "      <td>87</td>\n",
              "      <td>10</td>\n",
              "      <td>39</td>\n",
              "      <td>42</td>\n",
              "      <td>30</td>\n",
              "      <td>2</td>\n",
              "      <td>396</td>\n",
              "      <td>101</td>\n",
              "      <td>12</td>\n",
              "      <td>48</td>\n",
              "      <td>46</td>\n",
              "      <td>33</td>\n",
              "      <td>N</td>\n",
              "      <td>E</td>\n",
              "      <td>805</td>\n",
              "      <td>40</td>\n",
              "      <td>4</td>\n",
              "      <td>91.5</td>\n",
              "      <td>N</td>\n",
              "    </tr>\n",
              "  </tbody>\n",
              "</table>\n",
              "</div>\n",
              "      <button class=\"colab-df-convert\" onclick=\"convertToInteractive('df-09df0278-d8d1-4ee8-b71c-ffcbb4094050')\"\n",
              "              title=\"Convert this dataframe to an interactive table.\"\n",
              "              style=\"display:none;\">\n",
              "        \n",
              "  <svg xmlns=\"http://www.w3.org/2000/svg\" height=\"24px\"viewBox=\"0 0 24 24\"\n",
              "       width=\"24px\">\n",
              "    <path d=\"M0 0h24v24H0V0z\" fill=\"none\"/>\n",
              "    <path d=\"M18.56 5.44l.94 2.06.94-2.06 2.06-.94-2.06-.94-.94-2.06-.94 2.06-2.06.94zm-11 1L8.5 8.5l.94-2.06 2.06-.94-2.06-.94L8.5 2.5l-.94 2.06-2.06.94zm10 10l.94 2.06.94-2.06 2.06-.94-2.06-.94-.94-2.06-.94 2.06-2.06.94z\"/><path d=\"M17.41 7.96l-1.37-1.37c-.4-.4-.92-.59-1.43-.59-.52 0-1.04.2-1.43.59L10.3 9.45l-7.72 7.72c-.78.78-.78 2.05 0 2.83L4 21.41c.39.39.9.59 1.41.59.51 0 1.02-.2 1.41-.59l7.78-7.78 2.81-2.81c.8-.78.8-2.07 0-2.86zM5.41 20L4 18.59l7.72-7.72 1.47 1.35L5.41 20z\"/>\n",
              "  </svg>\n",
              "      </button>\n",
              "      \n",
              "  <style>\n",
              "    .colab-df-container {\n",
              "      display:flex;\n",
              "      flex-wrap:wrap;\n",
              "      gap: 12px;\n",
              "    }\n",
              "\n",
              "    .colab-df-convert {\n",
              "      background-color: #E8F0FE;\n",
              "      border: none;\n",
              "      border-radius: 50%;\n",
              "      cursor: pointer;\n",
              "      display: none;\n",
              "      fill: #1967D2;\n",
              "      height: 32px;\n",
              "      padding: 0 0 0 0;\n",
              "      width: 32px;\n",
              "    }\n",
              "\n",
              "    .colab-df-convert:hover {\n",
              "      background-color: #E2EBFA;\n",
              "      box-shadow: 0px 1px 2px rgba(60, 64, 67, 0.3), 0px 1px 3px 1px rgba(60, 64, 67, 0.15);\n",
              "      fill: #174EA6;\n",
              "    }\n",
              "\n",
              "    [theme=dark] .colab-df-convert {\n",
              "      background-color: #3B4455;\n",
              "      fill: #D2E3FC;\n",
              "    }\n",
              "\n",
              "    [theme=dark] .colab-df-convert:hover {\n",
              "      background-color: #434B5C;\n",
              "      box-shadow: 0px 1px 3px 1px rgba(0, 0, 0, 0.15);\n",
              "      filter: drop-shadow(0px 1px 2px rgba(0, 0, 0, 0.3));\n",
              "      fill: #FFFFFF;\n",
              "    }\n",
              "  </style>\n",
              "\n",
              "      <script>\n",
              "        const buttonEl =\n",
              "          document.querySelector('#df-09df0278-d8d1-4ee8-b71c-ffcbb4094050 button.colab-df-convert');\n",
              "        buttonEl.style.display =\n",
              "          google.colab.kernel.accessAllowed ? 'block' : 'none';\n",
              "\n",
              "        async function convertToInteractive(key) {\n",
              "          const element = document.querySelector('#df-09df0278-d8d1-4ee8-b71c-ffcbb4094050');\n",
              "          const dataTable =\n",
              "            await google.colab.kernel.invokeFunction('convertToInteractive',\n",
              "                                                     [key], {});\n",
              "          if (!dataTable) return;\n",
              "\n",
              "          const docLinkHtml = 'Like what you see? Visit the ' +\n",
              "            '<a target=\"_blank\" href=https://colab.research.google.com/notebooks/data_table.ipynb>data table notebook</a>'\n",
              "            + ' to learn more about interactive tables.';\n",
              "          element.innerHTML = '';\n",
              "          dataTable['output_type'] = 'display_data';\n",
              "          await google.colab.output.renderOutput(dataTable, element);\n",
              "          const docLink = document.createElement('div');\n",
              "          docLink.innerHTML = docLinkHtml;\n",
              "          element.appendChild(docLink);\n",
              "        }\n",
              "      </script>\n",
              "    </div>\n",
              "  </div>\n",
              "  "
            ]
          },
          "metadata": {},
          "execution_count": 406
        }
      ]
    },
    {
      "cell_type": "code",
      "source": [
        "h.describe()"
      ],
      "metadata": {
        "colab": {
          "base_uri": "https://localhost:8080/",
          "height": 364
        },
        "id": "AnogJ0WWgey5",
        "outputId": "d1947dc5-260e-4929-89a7-d30d784dc4c4"
      },
      "execution_count": null,
      "outputs": [
        {
          "output_type": "execute_result",
          "data": {
            "text/plain": [
              "            AtBat        Hits       HmRun        Runs         RBI       Walks  \\\n",
              "count  322.000000  322.000000  322.000000  322.000000  322.000000  322.000000   \n",
              "mean   380.928571  101.024845   10.770186   50.909938   48.027950   38.742236   \n",
              "std    153.404981   46.454741    8.709037   26.024095   26.166895   21.639327   \n",
              "min     16.000000    1.000000    0.000000    0.000000    0.000000    0.000000   \n",
              "25%    255.250000   64.000000    4.000000   30.250000   28.000000   22.000000   \n",
              "50%    379.500000   96.000000    8.000000   48.000000   44.000000   35.000000   \n",
              "75%    512.000000  137.000000   16.000000   69.000000   64.750000   53.000000   \n",
              "max    687.000000  238.000000   40.000000  130.000000  121.000000  105.000000   \n",
              "\n",
              "            Years       CAtBat        CHits      CHmRun        CRuns  \\\n",
              "count  322.000000    322.00000   322.000000  322.000000   322.000000   \n",
              "mean     7.444099   2648.68323   717.571429   69.490683   358.795031   \n",
              "std      4.926087   2324.20587   654.472627   86.266061   334.105886   \n",
              "min      1.000000     19.00000     4.000000    0.000000     1.000000   \n",
              "25%      4.000000    816.75000   209.000000   14.000000   100.250000   \n",
              "50%      6.000000   1928.00000   508.000000   37.500000   247.000000   \n",
              "75%     11.000000   3924.25000  1059.250000   90.000000   526.250000   \n",
              "max     24.000000  14053.00000  4256.000000  548.000000  2165.000000   \n",
              "\n",
              "              CRBI       CWalks      PutOuts     Assists      Errors  \\\n",
              "count   322.000000   322.000000   322.000000  322.000000  322.000000   \n",
              "mean    330.118012   260.239130   288.937888  106.913043    8.040373   \n",
              "std     333.219617   267.058085   280.704614  136.854876    6.368359   \n",
              "min       0.000000     0.000000     0.000000    0.000000    0.000000   \n",
              "25%      88.750000    67.250000   109.250000    7.000000    3.000000   \n",
              "50%     220.500000   170.500000   212.000000   39.500000    6.000000   \n",
              "75%     426.250000   339.250000   325.000000  166.000000   11.000000   \n",
              "max    1659.000000  1566.000000  1378.000000  492.000000   32.000000   \n",
              "\n",
              "            Salary  \n",
              "count   263.000000  \n",
              "mean    535.925882  \n",
              "std     451.118681  \n",
              "min      67.500000  \n",
              "25%     190.000000  \n",
              "50%     425.000000  \n",
              "75%     750.000000  \n",
              "max    2460.000000  "
            ],
            "text/html": [
              "\n",
              "  <div id=\"df-4c9a04c3-9dc3-473c-8ca8-775fc0a2ab20\">\n",
              "    <div class=\"colab-df-container\">\n",
              "      <div>\n",
              "<style scoped>\n",
              "    .dataframe tbody tr th:only-of-type {\n",
              "        vertical-align: middle;\n",
              "    }\n",
              "\n",
              "    .dataframe tbody tr th {\n",
              "        vertical-align: top;\n",
              "    }\n",
              "\n",
              "    .dataframe thead th {\n",
              "        text-align: right;\n",
              "    }\n",
              "</style>\n",
              "<table border=\"1\" class=\"dataframe\">\n",
              "  <thead>\n",
              "    <tr style=\"text-align: right;\">\n",
              "      <th></th>\n",
              "      <th>AtBat</th>\n",
              "      <th>Hits</th>\n",
              "      <th>HmRun</th>\n",
              "      <th>Runs</th>\n",
              "      <th>RBI</th>\n",
              "      <th>Walks</th>\n",
              "      <th>Years</th>\n",
              "      <th>CAtBat</th>\n",
              "      <th>CHits</th>\n",
              "      <th>CHmRun</th>\n",
              "      <th>CRuns</th>\n",
              "      <th>CRBI</th>\n",
              "      <th>CWalks</th>\n",
              "      <th>PutOuts</th>\n",
              "      <th>Assists</th>\n",
              "      <th>Errors</th>\n",
              "      <th>Salary</th>\n",
              "    </tr>\n",
              "  </thead>\n",
              "  <tbody>\n",
              "    <tr>\n",
              "      <th>count</th>\n",
              "      <td>322.000000</td>\n",
              "      <td>322.000000</td>\n",
              "      <td>322.000000</td>\n",
              "      <td>322.000000</td>\n",
              "      <td>322.000000</td>\n",
              "      <td>322.000000</td>\n",
              "      <td>322.000000</td>\n",
              "      <td>322.00000</td>\n",
              "      <td>322.000000</td>\n",
              "      <td>322.000000</td>\n",
              "      <td>322.000000</td>\n",
              "      <td>322.000000</td>\n",
              "      <td>322.000000</td>\n",
              "      <td>322.000000</td>\n",
              "      <td>322.000000</td>\n",
              "      <td>322.000000</td>\n",
              "      <td>263.000000</td>\n",
              "    </tr>\n",
              "    <tr>\n",
              "      <th>mean</th>\n",
              "      <td>380.928571</td>\n",
              "      <td>101.024845</td>\n",
              "      <td>10.770186</td>\n",
              "      <td>50.909938</td>\n",
              "      <td>48.027950</td>\n",
              "      <td>38.742236</td>\n",
              "      <td>7.444099</td>\n",
              "      <td>2648.68323</td>\n",
              "      <td>717.571429</td>\n",
              "      <td>69.490683</td>\n",
              "      <td>358.795031</td>\n",
              "      <td>330.118012</td>\n",
              "      <td>260.239130</td>\n",
              "      <td>288.937888</td>\n",
              "      <td>106.913043</td>\n",
              "      <td>8.040373</td>\n",
              "      <td>535.925882</td>\n",
              "    </tr>\n",
              "    <tr>\n",
              "      <th>std</th>\n",
              "      <td>153.404981</td>\n",
              "      <td>46.454741</td>\n",
              "      <td>8.709037</td>\n",
              "      <td>26.024095</td>\n",
              "      <td>26.166895</td>\n",
              "      <td>21.639327</td>\n",
              "      <td>4.926087</td>\n",
              "      <td>2324.20587</td>\n",
              "      <td>654.472627</td>\n",
              "      <td>86.266061</td>\n",
              "      <td>334.105886</td>\n",
              "      <td>333.219617</td>\n",
              "      <td>267.058085</td>\n",
              "      <td>280.704614</td>\n",
              "      <td>136.854876</td>\n",
              "      <td>6.368359</td>\n",
              "      <td>451.118681</td>\n",
              "    </tr>\n",
              "    <tr>\n",
              "      <th>min</th>\n",
              "      <td>16.000000</td>\n",
              "      <td>1.000000</td>\n",
              "      <td>0.000000</td>\n",
              "      <td>0.000000</td>\n",
              "      <td>0.000000</td>\n",
              "      <td>0.000000</td>\n",
              "      <td>1.000000</td>\n",
              "      <td>19.00000</td>\n",
              "      <td>4.000000</td>\n",
              "      <td>0.000000</td>\n",
              "      <td>1.000000</td>\n",
              "      <td>0.000000</td>\n",
              "      <td>0.000000</td>\n",
              "      <td>0.000000</td>\n",
              "      <td>0.000000</td>\n",
              "      <td>0.000000</td>\n",
              "      <td>67.500000</td>\n",
              "    </tr>\n",
              "    <tr>\n",
              "      <th>25%</th>\n",
              "      <td>255.250000</td>\n",
              "      <td>64.000000</td>\n",
              "      <td>4.000000</td>\n",
              "      <td>30.250000</td>\n",
              "      <td>28.000000</td>\n",
              "      <td>22.000000</td>\n",
              "      <td>4.000000</td>\n",
              "      <td>816.75000</td>\n",
              "      <td>209.000000</td>\n",
              "      <td>14.000000</td>\n",
              "      <td>100.250000</td>\n",
              "      <td>88.750000</td>\n",
              "      <td>67.250000</td>\n",
              "      <td>109.250000</td>\n",
              "      <td>7.000000</td>\n",
              "      <td>3.000000</td>\n",
              "      <td>190.000000</td>\n",
              "    </tr>\n",
              "    <tr>\n",
              "      <th>50%</th>\n",
              "      <td>379.500000</td>\n",
              "      <td>96.000000</td>\n",
              "      <td>8.000000</td>\n",
              "      <td>48.000000</td>\n",
              "      <td>44.000000</td>\n",
              "      <td>35.000000</td>\n",
              "      <td>6.000000</td>\n",
              "      <td>1928.00000</td>\n",
              "      <td>508.000000</td>\n",
              "      <td>37.500000</td>\n",
              "      <td>247.000000</td>\n",
              "      <td>220.500000</td>\n",
              "      <td>170.500000</td>\n",
              "      <td>212.000000</td>\n",
              "      <td>39.500000</td>\n",
              "      <td>6.000000</td>\n",
              "      <td>425.000000</td>\n",
              "    </tr>\n",
              "    <tr>\n",
              "      <th>75%</th>\n",
              "      <td>512.000000</td>\n",
              "      <td>137.000000</td>\n",
              "      <td>16.000000</td>\n",
              "      <td>69.000000</td>\n",
              "      <td>64.750000</td>\n",
              "      <td>53.000000</td>\n",
              "      <td>11.000000</td>\n",
              "      <td>3924.25000</td>\n",
              "      <td>1059.250000</td>\n",
              "      <td>90.000000</td>\n",
              "      <td>526.250000</td>\n",
              "      <td>426.250000</td>\n",
              "      <td>339.250000</td>\n",
              "      <td>325.000000</td>\n",
              "      <td>166.000000</td>\n",
              "      <td>11.000000</td>\n",
              "      <td>750.000000</td>\n",
              "    </tr>\n",
              "    <tr>\n",
              "      <th>max</th>\n",
              "      <td>687.000000</td>\n",
              "      <td>238.000000</td>\n",
              "      <td>40.000000</td>\n",
              "      <td>130.000000</td>\n",
              "      <td>121.000000</td>\n",
              "      <td>105.000000</td>\n",
              "      <td>24.000000</td>\n",
              "      <td>14053.00000</td>\n",
              "      <td>4256.000000</td>\n",
              "      <td>548.000000</td>\n",
              "      <td>2165.000000</td>\n",
              "      <td>1659.000000</td>\n",
              "      <td>1566.000000</td>\n",
              "      <td>1378.000000</td>\n",
              "      <td>492.000000</td>\n",
              "      <td>32.000000</td>\n",
              "      <td>2460.000000</td>\n",
              "    </tr>\n",
              "  </tbody>\n",
              "</table>\n",
              "</div>\n",
              "      <button class=\"colab-df-convert\" onclick=\"convertToInteractive('df-4c9a04c3-9dc3-473c-8ca8-775fc0a2ab20')\"\n",
              "              title=\"Convert this dataframe to an interactive table.\"\n",
              "              style=\"display:none;\">\n",
              "        \n",
              "  <svg xmlns=\"http://www.w3.org/2000/svg\" height=\"24px\"viewBox=\"0 0 24 24\"\n",
              "       width=\"24px\">\n",
              "    <path d=\"M0 0h24v24H0V0z\" fill=\"none\"/>\n",
              "    <path d=\"M18.56 5.44l.94 2.06.94-2.06 2.06-.94-2.06-.94-.94-2.06-.94 2.06-2.06.94zm-11 1L8.5 8.5l.94-2.06 2.06-.94-2.06-.94L8.5 2.5l-.94 2.06-2.06.94zm10 10l.94 2.06.94-2.06 2.06-.94-2.06-.94-.94-2.06-.94 2.06-2.06.94z\"/><path d=\"M17.41 7.96l-1.37-1.37c-.4-.4-.92-.59-1.43-.59-.52 0-1.04.2-1.43.59L10.3 9.45l-7.72 7.72c-.78.78-.78 2.05 0 2.83L4 21.41c.39.39.9.59 1.41.59.51 0 1.02-.2 1.41-.59l7.78-7.78 2.81-2.81c.8-.78.8-2.07 0-2.86zM5.41 20L4 18.59l7.72-7.72 1.47 1.35L5.41 20z\"/>\n",
              "  </svg>\n",
              "      </button>\n",
              "      \n",
              "  <style>\n",
              "    .colab-df-container {\n",
              "      display:flex;\n",
              "      flex-wrap:wrap;\n",
              "      gap: 12px;\n",
              "    }\n",
              "\n",
              "    .colab-df-convert {\n",
              "      background-color: #E8F0FE;\n",
              "      border: none;\n",
              "      border-radius: 50%;\n",
              "      cursor: pointer;\n",
              "      display: none;\n",
              "      fill: #1967D2;\n",
              "      height: 32px;\n",
              "      padding: 0 0 0 0;\n",
              "      width: 32px;\n",
              "    }\n",
              "\n",
              "    .colab-df-convert:hover {\n",
              "      background-color: #E2EBFA;\n",
              "      box-shadow: 0px 1px 2px rgba(60, 64, 67, 0.3), 0px 1px 3px 1px rgba(60, 64, 67, 0.15);\n",
              "      fill: #174EA6;\n",
              "    }\n",
              "\n",
              "    [theme=dark] .colab-df-convert {\n",
              "      background-color: #3B4455;\n",
              "      fill: #D2E3FC;\n",
              "    }\n",
              "\n",
              "    [theme=dark] .colab-df-convert:hover {\n",
              "      background-color: #434B5C;\n",
              "      box-shadow: 0px 1px 3px 1px rgba(0, 0, 0, 0.15);\n",
              "      filter: drop-shadow(0px 1px 2px rgba(0, 0, 0, 0.3));\n",
              "      fill: #FFFFFF;\n",
              "    }\n",
              "  </style>\n",
              "\n",
              "      <script>\n",
              "        const buttonEl =\n",
              "          document.querySelector('#df-4c9a04c3-9dc3-473c-8ca8-775fc0a2ab20 button.colab-df-convert');\n",
              "        buttonEl.style.display =\n",
              "          google.colab.kernel.accessAllowed ? 'block' : 'none';\n",
              "\n",
              "        async function convertToInteractive(key) {\n",
              "          const element = document.querySelector('#df-4c9a04c3-9dc3-473c-8ca8-775fc0a2ab20');\n",
              "          const dataTable =\n",
              "            await google.colab.kernel.invokeFunction('convertToInteractive',\n",
              "                                                     [key], {});\n",
              "          if (!dataTable) return;\n",
              "\n",
              "          const docLinkHtml = 'Like what you see? Visit the ' +\n",
              "            '<a target=\"_blank\" href=https://colab.research.google.com/notebooks/data_table.ipynb>data table notebook</a>'\n",
              "            + ' to learn more about interactive tables.';\n",
              "          element.innerHTML = '';\n",
              "          dataTable['output_type'] = 'display_data';\n",
              "          await google.colab.output.renderOutput(dataTable, element);\n",
              "          const docLink = document.createElement('div');\n",
              "          docLink.innerHTML = docLinkHtml;\n",
              "          element.appendChild(docLink);\n",
              "        }\n",
              "      </script>\n",
              "    </div>\n",
              "  </div>\n",
              "  "
            ]
          },
          "metadata": {},
          "execution_count": 407
        }
      ]
    },
    {
      "cell_type": "code",
      "source": [
        "h.isnull().sum()"
      ],
      "metadata": {
        "colab": {
          "base_uri": "https://localhost:8080/"
        },
        "id": "2CncPjBYgiEU",
        "outputId": "f0d3bbb8-5388-4371-ecb3-ca9a44dc99fe"
      },
      "execution_count": null,
      "outputs": [
        {
          "output_type": "execute_result",
          "data": {
            "text/plain": [
              "AtBat         0\n",
              "Hits          0\n",
              "HmRun         0\n",
              "Runs          0\n",
              "RBI           0\n",
              "Walks         0\n",
              "Years         0\n",
              "CAtBat        0\n",
              "CHits         0\n",
              "CHmRun        0\n",
              "CRuns         0\n",
              "CRBI          0\n",
              "CWalks        0\n",
              "League        0\n",
              "Division      0\n",
              "PutOuts       0\n",
              "Assists       0\n",
              "Errors        0\n",
              "Salary       59\n",
              "NewLeague     0\n",
              "dtype: int64"
            ]
          },
          "metadata": {},
          "execution_count": 408
        }
      ]
    },
    {
      "cell_type": "code",
      "source": [
        "h = h.dropna()\n",
        "h.shape"
      ],
      "metadata": {
        "colab": {
          "base_uri": "https://localhost:8080/"
        },
        "id": "Ra5nBdBx-5ZI",
        "outputId": "08ac709e-3322-4c47-9366-79162e636f78"
      },
      "execution_count": null,
      "outputs": [
        {
          "output_type": "execute_result",
          "data": {
            "text/plain": [
              "(263, 20)"
            ]
          },
          "metadata": {},
          "execution_count": 409
        }
      ]
    },
    {
      "cell_type": "code",
      "source": [
        "cat_cols = [col for col in h.columns if col not in h.describe().columns]\n",
        "print(cat_cols)"
      ],
      "metadata": {
        "colab": {
          "base_uri": "https://localhost:8080/"
        },
        "id": "Smjo36gi-4q3",
        "outputId": "e69a6138-eeff-4149-e063-a5af34693911"
      },
      "execution_count": null,
      "outputs": [
        {
          "output_type": "stream",
          "name": "stdout",
          "text": [
            "['League', 'Division', 'NewLeague']\n"
          ]
        }
      ]
    },
    {
      "cell_type": "code",
      "source": [
        "h.League.value_counts()"
      ],
      "metadata": {
        "colab": {
          "base_uri": "https://localhost:8080/"
        },
        "id": "3ukmENKBglAU",
        "outputId": "9cc34056-81a4-43ca-83f0-6c01dc3394b1"
      },
      "execution_count": null,
      "outputs": [
        {
          "output_type": "execute_result",
          "data": {
            "text/plain": [
              "A    139\n",
              "N    124\n",
              "Name: League, dtype: int64"
            ]
          },
          "metadata": {},
          "execution_count": 411
        }
      ]
    },
    {
      "cell_type": "code",
      "source": [
        "h['League'].replace(['A','N'],[0,1],inplace = True)"
      ],
      "metadata": {
        "id": "kNUdSBZB9jHP"
      },
      "execution_count": null,
      "outputs": []
    },
    {
      "cell_type": "code",
      "source": [
        "h.Division.value_counts()"
      ],
      "metadata": {
        "colab": {
          "base_uri": "https://localhost:8080/"
        },
        "id": "IdacNLO4-Oz4",
        "outputId": "c584cc9e-2fd9-42d1-ded2-020cc2dd1c90"
      },
      "execution_count": null,
      "outputs": [
        {
          "output_type": "execute_result",
          "data": {
            "text/plain": [
              "W    134\n",
              "E    129\n",
              "Name: Division, dtype: int64"
            ]
          },
          "metadata": {},
          "execution_count": 413
        }
      ]
    },
    {
      "cell_type": "code",
      "source": [
        "h['Division'].replace(['W','E'],[0,1],inplace = True)"
      ],
      "metadata": {
        "id": "afE6rhMe-m-y"
      },
      "execution_count": null,
      "outputs": []
    },
    {
      "cell_type": "code",
      "source": [
        "h.NewLeague.value_counts()"
      ],
      "metadata": {
        "colab": {
          "base_uri": "https://localhost:8080/"
        },
        "id": "8TlIarVj_p35",
        "outputId": "f109f130-56ab-4c90-deac-9a8173ecf8e7"
      },
      "execution_count": null,
      "outputs": [
        {
          "output_type": "execute_result",
          "data": {
            "text/plain": [
              "A    141\n",
              "N    122\n",
              "Name: NewLeague, dtype: int64"
            ]
          },
          "metadata": {},
          "execution_count": 415
        }
      ]
    },
    {
      "cell_type": "code",
      "source": [
        "h['NewLeague'].replace(['A','N'],[0,1],inplace = True)"
      ],
      "metadata": {
        "id": "i6TXeeZnAOi-"
      },
      "execution_count": null,
      "outputs": []
    },
    {
      "cell_type": "code",
      "source": [
        "h.head()"
      ],
      "metadata": {
        "colab": {
          "base_uri": "https://localhost:8080/",
          "height": 270
        },
        "id": "Qk07t3JoAUhH",
        "outputId": "eaa1929b-9639-4884-bc26-6d1093d9aae6"
      },
      "execution_count": null,
      "outputs": [
        {
          "output_type": "execute_result",
          "data": {
            "text/plain": [
              "   AtBat  Hits  HmRun  Runs  RBI  Walks  Years  CAtBat  CHits  CHmRun  CRuns  \\\n",
              "1    315    81      7    24   38     39     14    3449    835      69    321   \n",
              "2    479   130     18    66   72     76      3    1624    457      63    224   \n",
              "3    496   141     20    65   78     37     11    5628   1575     225    828   \n",
              "4    321    87     10    39   42     30      2     396    101      12     48   \n",
              "5    594   169      4    74   51     35     11    4408   1133      19    501   \n",
              "\n",
              "   CRBI  CWalks  League  Division  PutOuts  Assists  Errors  Salary  NewLeague  \n",
              "1   414     375       1         0      632       43      10   475.0          1  \n",
              "2   266     263       0         0      880       82      14   480.0          0  \n",
              "3   838     354       1         1      200       11       3   500.0          1  \n",
              "4    46      33       1         1      805       40       4    91.5          1  \n",
              "5   336     194       0         0      282      421      25   750.0          0  "
            ],
            "text/html": [
              "\n",
              "  <div id=\"df-9586ff3e-3983-4343-9b35-ae097d83d14a\">\n",
              "    <div class=\"colab-df-container\">\n",
              "      <div>\n",
              "<style scoped>\n",
              "    .dataframe tbody tr th:only-of-type {\n",
              "        vertical-align: middle;\n",
              "    }\n",
              "\n",
              "    .dataframe tbody tr th {\n",
              "        vertical-align: top;\n",
              "    }\n",
              "\n",
              "    .dataframe thead th {\n",
              "        text-align: right;\n",
              "    }\n",
              "</style>\n",
              "<table border=\"1\" class=\"dataframe\">\n",
              "  <thead>\n",
              "    <tr style=\"text-align: right;\">\n",
              "      <th></th>\n",
              "      <th>AtBat</th>\n",
              "      <th>Hits</th>\n",
              "      <th>HmRun</th>\n",
              "      <th>Runs</th>\n",
              "      <th>RBI</th>\n",
              "      <th>Walks</th>\n",
              "      <th>Years</th>\n",
              "      <th>CAtBat</th>\n",
              "      <th>CHits</th>\n",
              "      <th>CHmRun</th>\n",
              "      <th>CRuns</th>\n",
              "      <th>CRBI</th>\n",
              "      <th>CWalks</th>\n",
              "      <th>League</th>\n",
              "      <th>Division</th>\n",
              "      <th>PutOuts</th>\n",
              "      <th>Assists</th>\n",
              "      <th>Errors</th>\n",
              "      <th>Salary</th>\n",
              "      <th>NewLeague</th>\n",
              "    </tr>\n",
              "  </thead>\n",
              "  <tbody>\n",
              "    <tr>\n",
              "      <th>1</th>\n",
              "      <td>315</td>\n",
              "      <td>81</td>\n",
              "      <td>7</td>\n",
              "      <td>24</td>\n",
              "      <td>38</td>\n",
              "      <td>39</td>\n",
              "      <td>14</td>\n",
              "      <td>3449</td>\n",
              "      <td>835</td>\n",
              "      <td>69</td>\n",
              "      <td>321</td>\n",
              "      <td>414</td>\n",
              "      <td>375</td>\n",
              "      <td>1</td>\n",
              "      <td>0</td>\n",
              "      <td>632</td>\n",
              "      <td>43</td>\n",
              "      <td>10</td>\n",
              "      <td>475.0</td>\n",
              "      <td>1</td>\n",
              "    </tr>\n",
              "    <tr>\n",
              "      <th>2</th>\n",
              "      <td>479</td>\n",
              "      <td>130</td>\n",
              "      <td>18</td>\n",
              "      <td>66</td>\n",
              "      <td>72</td>\n",
              "      <td>76</td>\n",
              "      <td>3</td>\n",
              "      <td>1624</td>\n",
              "      <td>457</td>\n",
              "      <td>63</td>\n",
              "      <td>224</td>\n",
              "      <td>266</td>\n",
              "      <td>263</td>\n",
              "      <td>0</td>\n",
              "      <td>0</td>\n",
              "      <td>880</td>\n",
              "      <td>82</td>\n",
              "      <td>14</td>\n",
              "      <td>480.0</td>\n",
              "      <td>0</td>\n",
              "    </tr>\n",
              "    <tr>\n",
              "      <th>3</th>\n",
              "      <td>496</td>\n",
              "      <td>141</td>\n",
              "      <td>20</td>\n",
              "      <td>65</td>\n",
              "      <td>78</td>\n",
              "      <td>37</td>\n",
              "      <td>11</td>\n",
              "      <td>5628</td>\n",
              "      <td>1575</td>\n",
              "      <td>225</td>\n",
              "      <td>828</td>\n",
              "      <td>838</td>\n",
              "      <td>354</td>\n",
              "      <td>1</td>\n",
              "      <td>1</td>\n",
              "      <td>200</td>\n",
              "      <td>11</td>\n",
              "      <td>3</td>\n",
              "      <td>500.0</td>\n",
              "      <td>1</td>\n",
              "    </tr>\n",
              "    <tr>\n",
              "      <th>4</th>\n",
              "      <td>321</td>\n",
              "      <td>87</td>\n",
              "      <td>10</td>\n",
              "      <td>39</td>\n",
              "      <td>42</td>\n",
              "      <td>30</td>\n",
              "      <td>2</td>\n",
              "      <td>396</td>\n",
              "      <td>101</td>\n",
              "      <td>12</td>\n",
              "      <td>48</td>\n",
              "      <td>46</td>\n",
              "      <td>33</td>\n",
              "      <td>1</td>\n",
              "      <td>1</td>\n",
              "      <td>805</td>\n",
              "      <td>40</td>\n",
              "      <td>4</td>\n",
              "      <td>91.5</td>\n",
              "      <td>1</td>\n",
              "    </tr>\n",
              "    <tr>\n",
              "      <th>5</th>\n",
              "      <td>594</td>\n",
              "      <td>169</td>\n",
              "      <td>4</td>\n",
              "      <td>74</td>\n",
              "      <td>51</td>\n",
              "      <td>35</td>\n",
              "      <td>11</td>\n",
              "      <td>4408</td>\n",
              "      <td>1133</td>\n",
              "      <td>19</td>\n",
              "      <td>501</td>\n",
              "      <td>336</td>\n",
              "      <td>194</td>\n",
              "      <td>0</td>\n",
              "      <td>0</td>\n",
              "      <td>282</td>\n",
              "      <td>421</td>\n",
              "      <td>25</td>\n",
              "      <td>750.0</td>\n",
              "      <td>0</td>\n",
              "    </tr>\n",
              "  </tbody>\n",
              "</table>\n",
              "</div>\n",
              "      <button class=\"colab-df-convert\" onclick=\"convertToInteractive('df-9586ff3e-3983-4343-9b35-ae097d83d14a')\"\n",
              "              title=\"Convert this dataframe to an interactive table.\"\n",
              "              style=\"display:none;\">\n",
              "        \n",
              "  <svg xmlns=\"http://www.w3.org/2000/svg\" height=\"24px\"viewBox=\"0 0 24 24\"\n",
              "       width=\"24px\">\n",
              "    <path d=\"M0 0h24v24H0V0z\" fill=\"none\"/>\n",
              "    <path d=\"M18.56 5.44l.94 2.06.94-2.06 2.06-.94-2.06-.94-.94-2.06-.94 2.06-2.06.94zm-11 1L8.5 8.5l.94-2.06 2.06-.94-2.06-.94L8.5 2.5l-.94 2.06-2.06.94zm10 10l.94 2.06.94-2.06 2.06-.94-2.06-.94-.94-2.06-.94 2.06-2.06.94z\"/><path d=\"M17.41 7.96l-1.37-1.37c-.4-.4-.92-.59-1.43-.59-.52 0-1.04.2-1.43.59L10.3 9.45l-7.72 7.72c-.78.78-.78 2.05 0 2.83L4 21.41c.39.39.9.59 1.41.59.51 0 1.02-.2 1.41-.59l7.78-7.78 2.81-2.81c.8-.78.8-2.07 0-2.86zM5.41 20L4 18.59l7.72-7.72 1.47 1.35L5.41 20z\"/>\n",
              "  </svg>\n",
              "      </button>\n",
              "      \n",
              "  <style>\n",
              "    .colab-df-container {\n",
              "      display:flex;\n",
              "      flex-wrap:wrap;\n",
              "      gap: 12px;\n",
              "    }\n",
              "\n",
              "    .colab-df-convert {\n",
              "      background-color: #E8F0FE;\n",
              "      border: none;\n",
              "      border-radius: 50%;\n",
              "      cursor: pointer;\n",
              "      display: none;\n",
              "      fill: #1967D2;\n",
              "      height: 32px;\n",
              "      padding: 0 0 0 0;\n",
              "      width: 32px;\n",
              "    }\n",
              "\n",
              "    .colab-df-convert:hover {\n",
              "      background-color: #E2EBFA;\n",
              "      box-shadow: 0px 1px 2px rgba(60, 64, 67, 0.3), 0px 1px 3px 1px rgba(60, 64, 67, 0.15);\n",
              "      fill: #174EA6;\n",
              "    }\n",
              "\n",
              "    [theme=dark] .colab-df-convert {\n",
              "      background-color: #3B4455;\n",
              "      fill: #D2E3FC;\n",
              "    }\n",
              "\n",
              "    [theme=dark] .colab-df-convert:hover {\n",
              "      background-color: #434B5C;\n",
              "      box-shadow: 0px 1px 3px 1px rgba(0, 0, 0, 0.15);\n",
              "      filter: drop-shadow(0px 1px 2px rgba(0, 0, 0, 0.3));\n",
              "      fill: #FFFFFF;\n",
              "    }\n",
              "  </style>\n",
              "\n",
              "      <script>\n",
              "        const buttonEl =\n",
              "          document.querySelector('#df-9586ff3e-3983-4343-9b35-ae097d83d14a button.colab-df-convert');\n",
              "        buttonEl.style.display =\n",
              "          google.colab.kernel.accessAllowed ? 'block' : 'none';\n",
              "\n",
              "        async function convertToInteractive(key) {\n",
              "          const element = document.querySelector('#df-9586ff3e-3983-4343-9b35-ae097d83d14a');\n",
              "          const dataTable =\n",
              "            await google.colab.kernel.invokeFunction('convertToInteractive',\n",
              "                                                     [key], {});\n",
              "          if (!dataTable) return;\n",
              "\n",
              "          const docLinkHtml = 'Like what you see? Visit the ' +\n",
              "            '<a target=\"_blank\" href=https://colab.research.google.com/notebooks/data_table.ipynb>data table notebook</a>'\n",
              "            + ' to learn more about interactive tables.';\n",
              "          element.innerHTML = '';\n",
              "          dataTable['output_type'] = 'display_data';\n",
              "          await google.colab.output.renderOutput(dataTable, element);\n",
              "          const docLink = document.createElement('div');\n",
              "          docLink.innerHTML = docLinkHtml;\n",
              "          element.appendChild(docLink);\n",
              "        }\n",
              "      </script>\n",
              "    </div>\n",
              "  </div>\n",
              "  "
            ]
          },
          "metadata": {},
          "execution_count": 417
        }
      ]
    },
    {
      "cell_type": "code",
      "source": [
        "X = h.drop(columns= ['Salary'])\n",
        "y = h['Salary']"
      ],
      "metadata": {
        "id": "W9Ud1H1YB2uC"
      },
      "execution_count": null,
      "outputs": []
    },
    {
      "cell_type": "code",
      "source": [
        "from sklearn.preprocessing import MinMaxScaler\n",
        "scaler = MinMaxScaler()\n",
        "\n",
        "X = scaler.fit_transform(X)\n",
        "# X = pd.DataFrame(X_scaled,columns = X.columns)"
      ],
      "metadata": {
        "id": "HDzICgL_AWoT"
      },
      "execution_count": null,
      "outputs": []
    },
    {
      "cell_type": "code",
      "source": [
        "X_train,X_test,y_train,y_test = train_test_split(X,y,test_size = 0.2,random_state = 42)"
      ],
      "metadata": {
        "id": "gjKbMbcdDZuu"
      },
      "execution_count": null,
      "outputs": []
    },
    {
      "cell_type": "code",
      "source": [
        "# Lasso Regression\n",
        "\n",
        "class LassoRegression() :\n",
        "\t\n",
        "\tdef __init__( self, learning_rate, iterations, l1_penality ) :\n",
        "\t\tself.learning_rate = learning_rate\t\t\n",
        "\t\tself.iterations = iterations\t\t\n",
        "\t\tself.l1_penality = l1_penality\n",
        "\t\t\n",
        "\t# Function for model training\n",
        "\t\t\t\n",
        "\tdef fit( self, X, Y ) :\t\n",
        "\t\t# no_of_training_examples, no_of_features\t\t\n",
        "\t\tself.m, self.n = X.shape\t\t\n",
        "\t\t# weight initialization\t\t\n",
        "\t\tself.W = np.zeros( self.n )\t\t\n",
        "\t\tself.b = 0\t\t\n",
        "\t\tself.X = X\t\t\n",
        "\t\tself.Y = Y\n",
        "\t\t\n",
        "\t\t# gradient descent learning\n",
        "\t\t\t\t\n",
        "\t\tfor i in range( self.iterations ) :\n",
        "\t\t\t\n",
        "\t\t\tself.update_weights()\n",
        "\t\t\t\n",
        "\t\treturn self\n",
        "\t\n",
        "\t# Helper function to update weights in gradient descent\n",
        "\t\n",
        "\tdef update_weights( self ) :\n",
        "\t\t\t\n",
        "\t\tY_pred = self.predict( self.X )\n",
        "\t\t\n",
        "\t\t# calculate gradients\n",
        "\t\t\n",
        "\t\tdW = np.zeros( self.n )\n",
        "\t\t\n",
        "\t\tfor j in range( self.n ) :\n",
        "\t\t\t\n",
        "\t\t\tif self.W[j] > 0 :\n",
        "\t\t\t\t\n",
        "\t\t\t\tdW[j] = ( - ( 2 * ( self.X[:, j] ).dot( self.Y - Y_pred ) )\n",
        "\t\t\t\t\t\t\n",
        "\t\t\t\t\t\t+ self.l1_penality ) / self.m\n",
        "\t\t\n",
        "\t\t\telse :\n",
        "\t\t\t\t\n",
        "\t\t\t\tdW[j] = ( - ( 2 * ( self.X[:, j] ).dot( self.Y - Y_pred ) )\n",
        "\t\t\t\t\t\t\n",
        "\t\t\t\t\t\t- self.l1_penality ) / self.m\n",
        "\n",
        "\t\n",
        "\t\tdb = - 2 * np.sum( self.Y - Y_pred ) / self.m\n",
        "\t\t\n",
        "\t\t# update weights\n",
        "\t\n",
        "\t\tself.W = self.W - self.learning_rate * dW\n",
        "\t\n",
        "\t\tself.b = self.b - self.learning_rate * db\n",
        "\t\t\n",
        "\t\treturn self\n",
        "\t\n",
        "\t# Hypothetical function h( x )\n",
        "\t\n",
        "\tdef predict( self, X ) :\n",
        "\t\n",
        "\t\treturn X.dot( self.W ) + self.b\n"
      ],
      "metadata": {
        "id": "9PcBUFHlDxLK"
      },
      "execution_count": null,
      "outputs": []
    },
    {
      "cell_type": "code",
      "source": [
        "from sklearn.linear_model import LinearRegression\n",
        "LinearModel = LinearRegression()\n",
        "LinearModel.fit(X_train,y_train)\n",
        "y_pred = LinearModel.predict(X_test)\n",
        "Linear_accuracy = r2_score(y_test,y_pred)"
      ],
      "metadata": {
        "id": "Itg0HAb5FBzj"
      },
      "execution_count": null,
      "outputs": []
    },
    {
      "cell_type": "code",
      "source": [
        "Ridgemodel = RidgeRegression(iterations = 1000, learning_rate = 0.01, l2_penality = 0.5748 )\n",
        "Ridgemodel.fit( X_train, y_train )\n",
        "\n",
        "\n",
        "y_pred = Ridgemodel.predict( X_test )\n",
        "Ridge_accuracy = r2_score(y_test,y_pred)"
      ],
      "metadata": {
        "id": "2b02ol1LEmbt"
      },
      "execution_count": null,
      "outputs": []
    },
    {
      "cell_type": "code",
      "source": [
        "Lassomodel = LassoRegression( iterations = 1000, learning_rate = 0.01, l1_penality = 0.5748 )\n",
        "Lassomodel.fit( X_train, y_train )\n",
        "\n",
        "y_pred = Lassomodel.predict( X_test )\n",
        "Lasso_accuracy = r2_score(y_test,y_pred)"
      ],
      "metadata": {
        "id": "mmzqDsKtEJK6"
      },
      "execution_count": null,
      "outputs": []
    },
    {
      "cell_type": "code",
      "source": [
        "print('Linear regression accuracy is',Linear_accuracy)\n",
        "print('Ridge regression accuracy is',Ridge_accuracy)\n",
        "print('Lasso regression accuracy is',Lasso_accuracy)"
      ],
      "metadata": {
        "colab": {
          "base_uri": "https://localhost:8080/"
        },
        "id": "dwFf_5wTQkF2",
        "outputId": "45a27d4c-c3f0-4f4e-a965-0ce845488313"
      },
      "execution_count": null,
      "outputs": [
        {
          "output_type": "stream",
          "name": "stdout",
          "text": [
            "Linear regression accuracy is 0.29074518557981444\n",
            "Ridge regression accuracy is 0.18164178413863807\n",
            "Lasso regression accuracy is 0.18018424975845826\n"
          ]
        }
      ]
    },
    {
      "cell_type": "markdown",
      "source": [
        "## Qs 3\n",
        "Cross Validation for Ridge and Lasso Regression\n",
        "Explore Ridge Cross Validation (RidgeCV) and Lasso Cross Validation (LassoCV)\n",
        "function of Python. Implement both on Boston House Prediction Dataset (load_boston\n",
        "dataset from sklearn.datasets)."
      ],
      "metadata": {
        "id": "g3QYajhUOMGw"
      }
    },
    {
      "cell_type": "code",
      "source": [
        "from sklearn.datasets import load_boston\n",
        "from sklearn.linear_model import RidgeCV,LassoCV"
      ],
      "metadata": {
        "id": "P459UrN-EimE"
      },
      "execution_count": null,
      "outputs": []
    },
    {
      "cell_type": "code",
      "source": [
        "X, y = load_boston(return_X_y=True)"
      ],
      "metadata": {
        "colab": {
          "base_uri": "https://localhost:8080/"
        },
        "id": "hnS6vmhNOXMv",
        "outputId": "83b9cc25-afb4-4555-bd0b-1d40c3797e01"
      },
      "execution_count": null,
      "outputs": [
        {
          "output_type": "stream",
          "name": "stderr",
          "text": [
            "/usr/local/lib/python3.7/dist-packages/sklearn/utils/deprecation.py:87: FutureWarning: Function load_boston is deprecated; `load_boston` is deprecated in 1.0 and will be removed in 1.2.\n",
            "\n",
            "    The Boston housing prices dataset has an ethical problem. You can refer to\n",
            "    the documentation of this function for further details.\n",
            "\n",
            "    The scikit-learn maintainers therefore strongly discourage the use of this\n",
            "    dataset unless the purpose of the code is to study and educate about\n",
            "    ethical issues in data science and machine learning.\n",
            "\n",
            "    In this special case, you can fetch the dataset from the original\n",
            "    source::\n",
            "\n",
            "        import pandas as pd\n",
            "        import numpy as np\n",
            "\n",
            "\n",
            "        data_url = \"http://lib.stat.cmu.edu/datasets/boston\"\n",
            "        raw_df = pd.read_csv(data_url, sep=\"\\s+\", skiprows=22, header=None)\n",
            "        data = np.hstack([raw_df.values[::2, :], raw_df.values[1::2, :2]])\n",
            "        target = raw_df.values[1::2, 2]\n",
            "\n",
            "    Alternative datasets include the California housing dataset (i.e.\n",
            "    :func:`~sklearn.datasets.fetch_california_housing`) and the Ames housing\n",
            "    dataset. You can load the datasets as follows::\n",
            "\n",
            "        from sklearn.datasets import fetch_california_housing\n",
            "        housing = fetch_california_housing()\n",
            "\n",
            "    for the California housing dataset and::\n",
            "\n",
            "        from sklearn.datasets import fetch_openml\n",
            "        housing = fetch_openml(name=\"house_prices\", as_frame=True)\n",
            "\n",
            "    for the Ames housing dataset.\n",
            "    \n",
            "  warnings.warn(msg, category=FutureWarning)\n"
          ]
        }
      ]
    },
    {
      "cell_type": "code",
      "source": [
        "clf = RidgeCV(alphas=[1e-3, 1e-2, 1e-1, 1],cv = 5).fit(X, y)\n",
        "clf.score(X, y)"
      ],
      "metadata": {
        "colab": {
          "base_uri": "https://localhost:8080/"
        },
        "id": "X1Q2p36sOd1U",
        "outputId": "37bb983a-4b21-4ac1-f046-e1dcc0ed8505"
      },
      "execution_count": null,
      "outputs": [
        {
          "output_type": "execute_result",
          "data": {
            "text/plain": [
              "0.7388703133867616"
            ]
          },
          "metadata": {},
          "execution_count": 428
        }
      ]
    },
    {
      "cell_type": "code",
      "source": [
        "clf = LassoCV(alphas=[1e-3, 1e-2, 1e-1, 1],cv=500).fit(X, y)\n",
        "clf.score(X, y)"
      ],
      "metadata": {
        "colab": {
          "base_uri": "https://localhost:8080/"
        },
        "id": "atm9GpTYOqwJ",
        "outputId": "da3beed0-1c39-4ad5-977b-a59f24c1b24b"
      },
      "execution_count": null,
      "outputs": [
        {
          "output_type": "execute_result",
          "data": {
            "text/plain": [
              "0.7406383217739891"
            ]
          },
          "metadata": {},
          "execution_count": 429
        }
      ]
    }
  ]
}