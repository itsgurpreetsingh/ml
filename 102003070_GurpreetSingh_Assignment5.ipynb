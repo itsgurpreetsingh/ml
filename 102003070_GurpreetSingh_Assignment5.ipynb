{
  "nbformat": 4,
  "nbformat_minor": 0,
  "metadata": {
    "colab": {
      "provenance": []
    },
    "kernelspec": {
      "name": "python3",
      "display_name": "Python 3"
    },
    "language_info": {
      "name": "python"
    }
  },
  "cells": [
    {
      "cell_type": "markdown",
      "source": [
        "#Question 1"
      ],
      "metadata": {
        "id": "-iEjPJTFqdbs"
      }
    },
    {
      "cell_type": "code",
      "source": [
        "from sklearn.datasets import load_iris\n",
        "from sklearn.model_selection import train_test_split\n",
        "from sklearn.metrics import accuracy_score\n",
        "import numpy as np\n",
        "\n",
        "class Classifier(object):\n",
        "    def __init__(self):\n",
        "        self.w = None\n",
        "        self.b = None\n",
        "\n",
        "    def fit(self, x, y, epochs=300, eta=0.01):\n",
        "        self.w = np.zeros(shape=(x.shape[1], 1))\n",
        "        self.b = 0\n",
        "        for _ in range(epochs):\n",
        "            for idx, ip in enumerate(x):\n",
        "                ip = ip.reshape(-1, 1)\n",
        "                target = y[idx]\n",
        "                pred = (self.w.T @ ip + self.b)      #@ for dot product\n",
        "                pred = pred.reshape(-1)\n",
        "                pred = pred[0]\n",
        "                pred = 1 if self.sigmoid(pred) > 0.5 else -1\n",
        "                gradient = pred - target\n",
        "                self.w -= eta * gradient * ip\n",
        "                self.b -= eta * gradient\n",
        "\n",
        "    def sigmoid(self, x):\n",
        "        return 1 / (1 + np.exp(-x))\n",
        "\n",
        "    def predict(self, x):\n",
        "        pred_list = []\n",
        "        for ip in x:\n",
        "            ip = ip.reshape(-1)\n",
        "            pred = self.w.T @ ip + self.b\n",
        "            pred = pred.reshape(-1)\n",
        "            pred = pred[0]\n",
        "            pred = 1 if pred > 0 else -1\n",
        "            pred_list.append(pred)\n",
        "        return pred_list\n",
        "\n",
        "\n"
      ],
      "metadata": {
        "id": "HI3qx9Xoqhn7"
      },
      "execution_count": 13,
      "outputs": []
    },
    {
      "cell_type": "code",
      "source": [
        "iris_df = load_iris()\n",
        "X = iris_df[\"data\"]\n",
        "y = iris_df[\"target\"]\n",
        "X = (X - X.mean(axis=0)) / X.std(axis=0)\n",
        "X_train, X_test, y_train, y_test = train_test_split(X, y, test_size=0.2)\n",
        "# clf_1 -> recognise only setosa and non setosa\n",
        "clf_1 = Classifier()\n",
        "clf_1.fit(X_train, np.where(y_train == 0, 1, -1))\n",
        "y_pred = clf_1.predict(X_test)\n",
        "# clf_2 -> recognise only versicolor and non versicolor\n",
        "clf_2 = Classifier()\n",
        "clf_2.fit(X_train, np.where(y_train == 1, 1, -1), epochs=400)\n",
        "y_pred = clf_2.predict(X_test)\n",
        "# clf_2 -> virginica only  and non verginica\n",
        "clf_3 = Classifier()\n",
        "clf_3.fit(X_train, np.where(y_train == 2, 1, -1))\n",
        "y_pred = clf_3.predict(X_test)\n"
      ],
      "metadata": {
        "id": "bVh_hl6gqlQu"
      },
      "execution_count": 62,
      "outputs": []
    },
    {
      "cell_type": "code",
      "source": [
        "# Setosa = 1 -1 -1\n",
        "# virginica = -1 1 -1\n",
        "# versicolor = -1 -1 1\n",
        "final_pred_list = []\n",
        "pred_1_arr = clf_1.predict(X_test)\n",
        "pred_2_arr = clf_2.predict(X_test)\n",
        "pred_3_arr = clf_3.predict(X_test)\n",
        "arr_len = len(pred_1_arr)\n",
        "for idx in range(arr_len):\n",
        "    pred_1 = pred_1_arr[idx]\n",
        "    pred_2 = pred_2_arr[idx]\n",
        "    pred_3 = pred_3_arr[idx]\n",
        "    result = f\"{pred_1}{pred_2}{pred_3}\"\n",
        "    if result == \"1-1-1\":\n",
        "        final_pred_list.append(0)\n",
        "    elif result == \"-11-1\":\n",
        "        final_pred_list.append(1)\n",
        "    elif result == \"-1-11\":\n",
        "        final_pred_list.append(2)\n",
        "    else:\n",
        "        final_pred_list.append(np.random.choice([1, 2]))\n",
        "print(final_pred_list)"
      ],
      "metadata": {
        "colab": {
          "base_uri": "https://localhost:8080/"
        },
        "id": "urIi7mW-qlTF",
        "outputId": "5b3e44b7-8724-48e5-d780-cbc099eed8c6"
      },
      "execution_count": 63,
      "outputs": [
        {
          "output_type": "stream",
          "name": "stdout",
          "text": [
            "[0, 1, 0, 2, 1, 1, 0, 2, 0, 0, 1, 1, 0, 1, 1, 1, 2, 2, 2, 1, 1, 0, 2, 2, 0, 0, 0, 1, 2, 1]\n"
          ]
        }
      ]
    },
    {
      "cell_type": "markdown",
      "source": [
        "Question 2"
      ],
      "metadata": {
        "id": "1Iwq_NeOt0cC"
      }
    },
    {
      "cell_type": "markdown",
      "source": [
        "PART 1"
      ],
      "metadata": {
        "id": "dfPK0C0THnra"
      }
    },
    {
      "cell_type": "code",
      "source": [
        "import pandas as pd\n",
        "from numpy import log,dot,exp,shape\n",
        "from sklearn.preprocessing import PolynomialFeatures"
      ],
      "metadata": {
        "id": "mLBmwud2t3NJ"
      },
      "execution_count": 6,
      "outputs": []
    },
    {
      "cell_type": "code",
      "source": [
        "csvfile = pd.read_csv(\"/content/exam6.txt\", delimiter = ',')\n",
        "csvfile.to_csv('/content/exam6.txt')"
      ],
      "metadata": {
        "id": "yvewfJtS6zcE"
      },
      "execution_count": 8,
      "outputs": []
    },
    {
      "cell_type": "code",
      "source": [
        "X=csvfile.iloc[:,:-1]\n",
        "y=csvfile.iloc[:,-1]"
      ],
      "metadata": {
        "id": "Y7Yp-0UN9wYt"
      },
      "execution_count": 10,
      "outputs": []
    },
    {
      "cell_type": "code",
      "source": [
        "from sklearn.model_selection import train_test_split\n",
        "X_train, X_test, y_train, y_test = train_test_split(\n",
        "    X, y, test_size=0.25, random_state=42)"
      ],
      "metadata": {
        "id": "0gXzKSi7EmDs"
      },
      "execution_count": 11,
      "outputs": []
    },
    {
      "cell_type": "code",
      "source": [
        "poly = PolynomialFeatures(degree=6)\n",
        "X_trf = poly.fit_transform(X_train)\n",
        "X_tsf=poly.fit_transform(X_test)"
      ],
      "metadata": {
        "id": "rTw-bh5q5-7U"
      },
      "execution_count": 23,
      "outputs": []
    },
    {
      "cell_type": "code",
      "source": [
        "class logicRegression:\n",
        "  def sigmoid(self,z):\n",
        "      sig = 1/(1+exp(-z))\n",
        "      return sig\n",
        "  def initialize(self,X):\n",
        "      weights = np.zeros((shape(X)[1]+1,1))\n",
        "      X = np.c_[np.ones((shape(X)[0],1)),X]\n",
        "      return weights,X\n",
        "  def fit(self,X,y,alpha=10,iter=1000):\n",
        "      weights,X = self.initialize(X)\n",
        "      def cost(theta):\n",
        "        z = dot(X,theta)\n",
        "        cost0 = y.T.dot(log(self.sigmoid(z)))\n",
        "        cost1 = (1-y).T.dot(log(1-self.sigmoid(z)))\n",
        "        cost = -((cost1 + cost0))/len(y)\n",
        "      return cost    \n",
        "      cost_list = np.zeros(iter,)\n",
        "      for i in range(iter):\n",
        "         weights = weights - alpha*dot(X.T,self.sigmoid(dot(X,weights))-np.reshape(y,(len(y),1)))\n",
        "         cost_list[i] = cost(weights)\n",
        "      self.weights = weights\n",
        "      return cost_list\n",
        "  def predict(self,X):\n",
        "      z = dot(self.initialize(X)[1],self.initialize(X)[0])\n",
        "      lis = []\n",
        "      for i in self.sigmoid(z):\n",
        "          if i>0.5:\n",
        "             lis.append(1)\n",
        "          else:\n",
        "             lis.append(0)\n",
        "      return lis\n"
      ],
      "metadata": {
        "id": "Wv5ZtTD2-TPQ"
      },
      "execution_count": 58,
      "outputs": []
    },
    {
      "cell_type": "code",
      "source": [
        "obj=logicRegression()\n",
        "model=obj.fit(X_trf,y_train)"
      ],
      "metadata": {
        "id": "HztZBWMUEaPt"
      },
      "execution_count": 59,
      "outputs": []
    },
    {
      "cell_type": "code",
      "source": [
        "y_predict=obj.predict(X_tsf)"
      ],
      "metadata": {
        "id": "ThqGYMCcIxXE"
      },
      "execution_count": 60,
      "outputs": []
    },
    {
      "cell_type": "code",
      "source": [
        "y_predict"
      ],
      "metadata": {
        "id": "m9HNCgNZJ18W"
      },
      "execution_count": null,
      "outputs": []
    },
    {
      "cell_type": "markdown",
      "source": [
        "PART2"
      ],
      "metadata": {
        "id": "pf5qYGa2Ht77"
      }
    },
    {
      "cell_type": "code",
      "source": [
        "#using ridge regularization"
      ],
      "metadata": {
        "id": "Sd7RxJY8LsaK"
      },
      "execution_count": null,
      "outputs": []
    },
    {
      "cell_type": "code",
      "source": [
        "def sigmoid(X, theta):\n",
        "    temp = np.dot(X,theta)\n",
        "    temp = np.exp(-temp)\n",
        "    temp = temp + 1\n",
        "    temp = 1/temp\n",
        "    return temp\n",
        "\n",
        "def costfunc(h, y, theta, lam):\n",
        "    theta = theta[1:,:]\n",
        "    m = h.shape[0]\n",
        "    y1 = y.transpose()\n",
        "    h1 = np.log(h)\n",
        "    p1 = np.dot(y1,h1)\n",
        "    h2 = np.log(1-h)\n",
        "    p2 = np.dot((1- y).transpose(), h2)\n",
        "    p3 = sum(lam*(theta**2))/(2*m)\n",
        "    ans = -(p1 +p2)/m + (p3)\n",
        "    return ans\n",
        "\n",
        "def gradDescLogisticRegularised(X, y, alpha, niter):\n",
        "    theta = np.zeros(shape= (X.shape[1],1))\n",
        "    h = sigmoid(X, theta)\n",
        "    m = h.shape[0]\n",
        "    Jhist = np.zeros(shape = (niter,1))\n",
        "    \n",
        "    for i in range(0, niter):\n",
        "        Jhist[i] = costfunc(h,y,theta,0.2)\n",
        "        temp = theta\n",
        "        temp = temp*(0.999) -((alpha*np.dot(X.transpose(), h-y))/m)\n",
        "        temp[0] = theta[0] - ((alpha*np.dot(X.transpose(), h-y))/m)[0]\n",
        "        theta = temp\n",
        "        h = sigmoid(X, theta)\n",
        "        \n",
        "    return (theta, Jhist)\n"
      ],
      "metadata": {
        "id": "tCmYqr54OtVQ"
      },
      "execution_count": 55,
      "outputs": []
    },
    {
      "cell_type": "code",
      "source": [],
      "metadata": {
        "id": "uAaEigW7RYZE"
      },
      "execution_count": null,
      "outputs": []
    }
  ]
}